{
 "cells": [
  {
   "cell_type": "markdown",
   "id": "b260cc4bbdfd2ae9",
   "metadata": {
    "collapsed": false
   },
   "source": [
    "## Test Create CHCs"
   ]
  },
  {
   "cell_type": "markdown",
   "id": "b6ed3b4f50891bd9",
   "metadata": {
    "collapsed": false
   },
   "source": [
    "In this file we test the creation of CHCs from a given program."
   ]
  },
  {
   "cell_type": "markdown",
   "id": "20a072c09fd6cd87",
   "metadata": {
    "collapsed": false
   },
   "source": [
    "First we import the necessary libraries and set up the Z3 solver."
   ]
  },
  {
   "cell_type": "code",
   "execution_count": 1,
   "id": "c87dba680a33defc",
   "metadata": {
    "collapsed": false,
    "ExecuteTime": {
     "end_time": "2025-05-09T18:00:44.545520Z",
     "start_time": "2025-05-09T18:00:44.515843Z"
    }
   },
   "outputs": [],
   "source": [
    "from z3 import And, Ints, Array, IntSort\n",
    "import z3\n",
    "import graphviz\n",
    "z3.set_param(proof=True)\n",
    "from sw.verify.stasm_to_chcs import create_checs"
   ]
  },
  {
   "cell_type": "markdown",
   "id": "2fba88366e89ab72",
   "metadata": {
    "collapsed": false
   },
   "source": [
    "Now let's create a simple program and generate the CHCs for it.\n",
    "This program is taken straight out of the class presentation.\n",
    "It is a sanity test case for our implementation.\n",
    "All it does is `stack[sp-2] + stack[sp-1] * 13`.  "
   ]
  },
  {
   "cell_type": "code",
   "execution_count": 2,
   "id": "4a62255d0ac3aa3d",
   "metadata": {
    "collapsed": false,
    "ExecuteTime": {
     "end_time": "2025-05-09T18:00:44.547940Z",
     "start_time": "2025-05-09T18:00:44.546509Z"
    }
   },
   "outputs": [],
   "source": [
    "program = [(\"PUSH\", 13),\n",
    "              (\"POP\", 2),\n",
    "              (\"ALU\", \"MUL\"),\n",
    "              (\"POP\", 2),\n",
    "              (\"ALU\", \"ADD\"),\n",
    "              (\"POP\", 1)]"
   ]
  },
  {
   "cell_type": "markdown",
   "id": "b04d998f3ad93666",
   "metadata": {
    "collapsed": false
   },
   "source": [
    "In our case we are going to set \n",
    "`stack[0] = 1, stack[1] = 5`\n",
    "and test that the output is `1 + 5 * 13`"
   ]
  },
  {
   "cell_type": "code",
   "execution_count": 7,
   "id": "634b2e0a0531fd68",
   "metadata": {
    "collapsed": false,
    "ExecuteTime": {
     "end_time": "2025-05-09T18:00:49.956880Z",
     "start_time": "2025-05-09T18:00:49.920491Z"
    }
   },
   "outputs": [
    {
     "name": "stdout",
     "output_type": "stream",
     "text": [
      "digraph {\n",
      "\t2 [label=False]\n",
      "\t1868 [label=\"query!8(K(Int, 0),\n",
      "        Store(Store(Store(K(Int, 10), 1, 65), 0, 66), 2, 13),\n",
      "        0,\n",
      "        66,\n",
      "        1)\"]\n",
      "\t676 [label=\"ForAll([A, B, C, D, E],\n",
      "       Implies(And(A[1] == 5,\n",
      "                   A[0] == 1,\n",
      "                   Not(D[0] == 75),\n",
      "                   C == A[0],\n",
      "                   E == D[0],\n",
      "                   D ==\n",
      "                   Store(Store(Store(A, 2, 13), 1, 13*A[1]),\n",
      "                         0,\n",
      "                         13*A[1] + C)),\n",
      "               query!8(B, D, 0, E, C)))\"]\n",
      "\t676 -> 1868\n",
      "\t1868 -> 2\n",
      "\t1867 [label=\"Implies(query!8(K(Int, 0),\n",
      "                Store(Store(Store(K(Int, 10), 1, 65), 0, 66),\n",
      "                      2,\n",
      "                      13),\n",
      "                0,\n",
      "                66,\n",
      "                1),\n",
      "        False)\"]\n",
      "\t1867 -> 2\n",
      "}\n"
     ]
    }
   ],
   "source": [
    "stack = Array(\"stack\", IntSort(), IntSort())\n",
    "sp, r0, r1 = Ints('sp r0 r1')\n",
    "chcs = create_checs(pre_condition=And(stack[0] == 1, stack[1] == 5, sp == 2),\n",
    "             input_vars=[],\n",
    "             program=program,\n",
    "             post_condition=stack[sp] == 1 + 5 * 13)\n",
    "print(chcs.solve())"
   ]
  },
  {
   "cell_type": "markdown",
   "id": "dee4c1a05ec5e14c",
   "metadata": {
    "collapsed": false
   },
   "source": [
    "Now lets test the find max program from milestone 0\n",
    "First, import some macros:"
   ]
  },
  {
   "cell_type": "code",
   "execution_count": 4,
   "id": "790a19a2-edb2-491a-9e8b-2bc07349bea8",
   "metadata": {
    "ExecuteTime": {
     "end_time": "2025-05-09T18:00:44.585170Z",
     "start_time": "2025-05-09T18:00:44.583577Z"
    }
   },
   "outputs": [],
   "source": [
    "def READ_FROM_ARRAY():\n",
    "    \"\"\"\n",
    "    Pops the top as index and then base addr and push the value at that index from the array at addr\n",
    "    :return:\n",
    "    \"\"\"\n",
    "    return [\n",
    "        (\"POP\", 2),  # r0 = index, r1 = base addr\n",
    "        (\"ALU\", \"ADD\"),  # push base addr + index\n",
    "        (\"POP\", 1),   # r0 = base addr + index\n",
    "        (\"LOAD\", 0),  # push value at base addr + index\n",
    "    ]"
   ]
  },
  {
   "cell_type": "markdown",
   "id": "f80e39fc5c968e51",
   "metadata": {
    "collapsed": false
   },
   "source": [
    "Now writing the program:"
   ]
  },
  {
   "cell_type": "code",
   "execution_count": 5,
   "id": "be0d8cdd42e29834",
   "metadata": {
    "collapsed": false,
    "ExecuteTime": {
     "end_time": "2025-05-09T18:00:44.588241Z",
     "start_time": "2025-05-09T18:00:44.585636Z"
    }
   },
   "outputs": [],
   "source": [
    "program_find_max = [\n",
    "    (\"PUSH\", 0),\n",
    "    (\"DUP\", 2),\n",
    "    *READ_FROM_ARRAY(),\n",
    "    # Stack is now: [arr_addr, length, a[0]]\n",
    "    # Now let's define max = a[0]\n",
    "    (\"DUP\", 0),\n",
    "    # Stack is now: [arr_addr, length, a[0], mx=a[0]]\n",
    "    # Now after we saved a[0] on stack we can use this mem for i\n",
    "    # lets set i = 1 to memory address &a[0]\n",
    "    (\"PUSH\", 1),\n",
    "    (\"DUP\", 4),\n",
    "    (\"POP\", 2),\n",
    "    (\"STOR\", 0),\n",
    "    \"CHECK_COND:\",\n",
    "    # First put i in r0 and n in r1\n",
    "    (\"DUP\", 3),\n",
    "    (\"POP\", 1),\n",
    "    (\"LOAD\", 0),\n",
    "    (\"DUP\", 3),\n",
    "    (\"POP\", 2),\n",
    "    # Check i < n\n",
    "    (\"ALU\", \"LT\"),\n",
    "    (\"POP\", 1),\n",
    "    (\"JNZ\", \"LOOP_BODY\"),\n",
    "    (\"JMP\", \"END\"),\n",
    "    \"LOOP_BODY:\",\n",
    "    # read i from mem and put on stack\n",
    "    (\"DUP\", 3),\n",
    "    (\"POP\", 1),\n",
    "    (\"LOAD\", 0),\n",
    "    # put base addr on stack\n",
    "    (\"DUP\", 4),\n",
    "    # Put a[i] on stack\n",
    "    *READ_FROM_ARRAY(),\n",
    "    # Put mx on stack\n",
    "    (\"DUP\", 1),\n",
    "    # now stack is [base_addr, n, a[0], mx, a[i], mx]\n",
    "    (\"POP\", 2),\n",
    "    (\"ALU\", \"LT\"),\n",
    "    # now stack is [base_addr, n, a[0], mx, (result a[i] < mx)]\n",
    "    (\"POP\", 1),\n",
    "    (\"JNZ\", \"INC_I\"),\n",
    "    (\"JMP\", \"UPDATE\"),\n",
    "    \"INC_I:\",\n",
    "    # Put i on stack\n",
    "    (\"PUSH\", 0),\n",
    "    (\"DUP\", 4),\n",
    "    *READ_FROM_ARRAY(),\n",
    "    (\"PUSH\", 1),\n",
    "    (\"POP\", 2),\n",
    "    (\"ALU\", \"ADD\"),\n",
    "    (\"DUP\", 4),\n",
    "    (\"POP\", 2),\n",
    "    (\"STOR\", 0),\n",
    "    (\"JMP\", \"CHECK_COND\"),\n",
    "    \"UPDATE:\",\n",
    "    (\"POP\", 1),  # remove old mx from stack\n",
    "    # Push base addr\n",
    "    (\"DUP\", 2),\n",
    "    (\"POP\", 1),\n",
    "    (\"LOAD\", 0),\n",
    "    # Now i is on top of stack\n",
    "    (\"DUP\", 3),\n",
    "    *READ_FROM_ARRAY(),  # so now a[i] is where mx was on stack so mx = a[i]\n",
    "    (\"JMP\", \"INC_I\"),\n",
    "    \"END:\",\n",
    "    # Restore a[0]:\n",
    "    # Put a[0] on stack (we saved it before):\n",
    "    (\"DUP\", 1),\n",
    "    # Put base_addr on stack:\n",
    "    (\"DUP\", 4),\n",
    "    (\"POP\", 2),\n",
    "    (\"STOR\", 0),\n",
    "    (\"POP\", 2),\n",
    "    (\"POP\", 1),\n",
    "    (\"POP\", 1)\n",
    "]"
   ]
  },
  {
   "cell_type": "markdown",
   "id": "fc7be1abb9284985",
   "metadata": {
    "collapsed": false
   },
   "source": [
    "Now creating the verification "
   ]
  },
  {
   "cell_type": "code",
   "execution_count": 6,
   "id": "3397d206340788e8",
   "metadata": {
    "collapsed": false,
    "ExecuteTime": {
     "end_time": "2025-05-09T18:00:44.763237Z",
     "start_time": "2025-05-09T18:00:44.588909Z"
    }
   },
   "outputs": [
    {
     "name": "stdout",
     "output_type": "stream",
     "text": [
      "[U31 = [else -> False],\n",
      " U19 = [else -> False],\n",
      " U16 = [else -> False],\n",
      " U37 = [else -> False],\n",
      " U1 = [else ->\n",
      "       Or(Exists(k!4,\n",
      "                 And(Var(1)[3] == 3,\n",
      "                     Var(1)[2] == 10,\n",
      "                     Var(1)[1] == 8,\n",
      "                     Var(1)[0] == 2,\n",
      "                     k!4[1] == 4,\n",
      "                     k!4[0] == 0,\n",
      "                     Var(2) == Store(k!4, 2, 0),\n",
      "                     Var(3) == 3)),\n",
      "          Exists(k!3,\n",
      "                 And(Var(2) == Store(k!3, 2, 0),\n",
      "                     Var(1)[2] == 10,\n",
      "                     Var(1)[1] == 8,\n",
      "                     Var(1)[0] == 2,\n",
      "                     k!3[1] == 4,\n",
      "                     k!3[0] == 0,\n",
      "                     Var(1)[3] == 3,\n",
      "                     Var(3) == 3)))],\n",
      " U40 = [else -> False],\n",
      " U38 = [else -> False],\n",
      " U42 = [else -> False],\n",
      " U8 = [else ->\n",
      "       Or(Exists([k!4, k!3],\n",
      "                 And(Var(3) ==\n",
      "                     Store(Store(Store(k!4, 3, k!4[1]),\n",
      "                                 2,\n",
      "                                 k!4[1]),\n",
      "                           4,\n",
      "                           1),\n",
      "                     k!3[3] == 3,\n",
      "                     k!3[2] == 10,\n",
      "                     k!3[1] == 8,\n",
      "                     k!3[0] == 2,\n",
      "                     k!4[1] == 4,\n",
      "                     k!4[0] == 0,\n",
      "                     Var(5) == k!4[1],\n",
      "                     Var(2) ==\n",
      "                     Store(Store(k!4, 3, k!4[1]), 2, k!3[0]),\n",
      "                     Var(4) == 5,\n",
      "                     Var(6) == 0)),\n",
      "          Exists([k!3, k!2],\n",
      "                 And(Exists([k!4, k!3],\n",
      "                            And(k!3 ==\n",
      "                                Store(Store(k!4, 3, k!4[1]),\n",
      "                                      2,\n",
      "                                      k!4[1]),\n",
      "                                k!3[3] == 3,\n",
      "                                k!3[2] == 10,\n",
      "                                k!3[1] == 8,\n",
      "                                k!3[0] == 2,\n",
      "                                k!4[1] == 4,\n",
      "                                k!4[0] == 0,\n",
      "                                Var(7) == k!3[2],\n",
      "                                Var(4) ==\n",
      "                                Store(k!3, 2, k!3[0]),\n",
      "                                k!2 == 4,\n",
      "                                Var(8) == 0)),\n",
      "                     Var(4) == 1 + k!2,\n",
      "                     Var(3) == Store(k!3, k!2, 1))))],\n",
      " U26 = [else -> False],\n",
      " U51 = [else -> False],\n",
      " U67 = [else -> False],\n",
      " U30 = [else -> False],\n",
      " U45 = [else -> False],\n",
      " U12 = [else -> False],\n",
      " U66 = [else -> False],\n",
      " U22 = [else -> False],\n",
      " U63 = [else -> False],\n",
      " U10 = [else ->\n",
      "        Or(Exists([k!5, k!4],\n",
      "                  And(Var(2) ==\n",
      "                      Store(Store(k!5, 3, k!5[1]),\n",
      "                            2,\n",
      "                            k!4[0]),\n",
      "                      k!5[1] == 4,\n",
      "                      k!5[0] == 0,\n",
      "                      k!4[3] == 3,\n",
      "                      k!4[2] == 10,\n",
      "                      k!4[1] == 8,\n",
      "                      k!4[0] == 2,\n",
      "                      Var(5) == Var(3)[5],\n",
      "                      Var(6) == Var(3)[4],\n",
      "                      Var(3) ==\n",
      "                      Store(Store(Store(Store(k!5,\n",
      "                                        3,\n",
      "                                        k!5[1]),\n",
      "                                        2,\n",
      "                                        k!5[1]),\n",
      "                                  4,\n",
      "                                  1),\n",
      "                            5,\n",
      "                            k!5[1]),\n",
      "                      Var(4) == 4)),\n",
      "           Exists([k!2, k!1, k!0],\n",
      "                  And(Exists([k!4, k!3],\n",
      "                             And(Var(6) ==\n",
      "                                 Store(Store(Store(Store(k!4,\n",
      "                                        3,\n",
      "                                        k!4[1]),\n",
      "                                        2,\n",
      "                                        k!4[1]),\n",
      "                                        4,\n",
      "                                        1),\n",
      "                                       5,\n",
      "                                       k!4[1]),\n",
      "                                 k!3[3] == 3,\n",
      "                                 k!3[2] == 10,\n",
      "                                 k!3[1] == 8,\n",
      "                                 k!3[0] == 2,\n",
      "                                 k!4[1] == 4,\n",
      "                                 k!4[0] == 0,\n",
      "                                 k!1 == k!4[1],\n",
      "                                 Var(5) ==\n",
      "                                 Store(Store(k!4, 3, k!4[1]),\n",
      "                                       2,\n",
      "                                       k!3[0]),\n",
      "                                 k!2 == 6,\n",
      "                                 k!0 == 0)),\n",
      "                      Var(5) == -2 + k!2,\n",
      "                      Var(6) == Var(4)[-1 + k!2],\n",
      "                      Var(7) == Var(4)[-2 + k!2])))],\n",
      " U24 = [else -> False],\n",
      " U69 = [else -> False],\n",
      " U43 = [else -> False],\n",
      " U14 = [else -> False],\n",
      " U68 = [else -> False],\n",
      " U32 = [else -> False],\n",
      " U28 = [else -> False],\n",
      " U57 = [else -> False],\n",
      " U11 = [else ->\n",
      "        Or(Exists(k!4,\n",
      "                  And(Exists([k!5, k!4],\n",
      "                             And(k!4 ==\n",
      "                                 Store(Store(k!5, 3, k!5[1]),\n",
      "                                       2,\n",
      "                                       k!4[0]),\n",
      "                                 k!5[1] == 4,\n",
      "                                 k!5[0] == 0,\n",
      "                                 k!4[3] == 3,\n",
      "                                 k!4[2] == 10,\n",
      "                                 k!4[1] == 8,\n",
      "                                 k!4[0] == 2,\n",
      "                                 Var(6) == Var(4)[5],\n",
      "                                 Var(7) == Var(4)[4],\n",
      "                                 Var(4) ==\n",
      "                                 Store(Store(Store(Store(k!5,\n",
      "                                        3,\n",
      "                                        k!5[1]),\n",
      "                                        2,\n",
      "                                        k!5[1]),\n",
      "                                        4,\n",
      "                                        1),\n",
      "                                       5,\n",
      "                                       k!5[1]),\n",
      "                                 Var(5) == 4)),\n",
      "                      Var(1) == Store(k!4, Var(5), Var(4)))),\n",
      "           Exists([k!5, k!4],\n",
      "                  And(Var(3) ==\n",
      "                      Store(Store(Store(Store(k!5,\n",
      "                                        3,\n",
      "                                        k!5[1]),\n",
      "                                        2,\n",
      "                                        k!5[1]),\n",
      "                                  4,\n",
      "                                  1),\n",
      "                            5,\n",
      "                            k!5[1]),\n",
      "                      k!5[1] == 4,\n",
      "                      k!5[0] == 0,\n",
      "                      k!4[3] == 3,\n",
      "                      k!4[2] == 10,\n",
      "                      k!4[1] == 8,\n",
      "                      k!4[0] == 2,\n",
      "                      Var(6) == Var(3)[4],\n",
      "                      Var(5) == Var(3)[5],\n",
      "                      Var(2) ==\n",
      "                      Store(Store(Store(k!5, 3, k!5[1]),\n",
      "                                  2,\n",
      "                                  k!4[0]),\n",
      "                            Var(6),\n",
      "                            Var(5)),\n",
      "                      Var(4) == 4)))],\n",
      " U0 = [else ->\n",
      "       And(Var(0)[2] == 10,\n",
      "           Var(0)[1] == 8,\n",
      "           Var(0)[0] == 2,\n",
      "           Var(1)[1] == 4,\n",
      "           Var(1)[0] == 0,\n",
      "           Var(0)[3] == 3,\n",
      "           Var(2) == 2)],\n",
      " U3 = [else ->\n",
      "       Or(Exists(k!4,\n",
      "                 And(Var(1)[3] == 3,\n",
      "                     Var(1)[2] == 10,\n",
      "                     Var(1)[1] == 8,\n",
      "...\n"
     ]
    }
   ],
   "source": [
    "stack = Array(\"stack\", IntSort(), IntSort())\n",
    "memory = Array(\"memory\", IntSort(), IntSort())\n",
    "sp, r0, r1 = Ints('sp r0 r1')\n",
    "chcs = create_checs(pre_condition=And(stack[0] == 0, stack[1] == 4, sp == 2,\n",
    "                                      memory[0] == 2, memory[1] == 8, memory[2] == 10, memory[3] == 3),\n",
    "             input_vars=[],\n",
    "             program=program_find_max,\n",
    "             post_condition=And(sp == 0,\n",
    "                                memory[0] == 2, memory[1] == 8, memory[2] == 10, memory[3] == 3,\n",
    "                                r1 == 10))\n",
    "print(chcs.solve())"
   ]
  }
 ],
 "metadata": {
  "kernelspec": {
   "display_name": "Python 3 (ipykernel)",
   "language": "python",
   "name": "python3"
  },
  "language_info": {
   "codemirror_mode": {
    "name": "ipython",
    "version": 3
   },
   "file_extension": ".py",
   "mimetype": "text/x-python",
   "name": "python",
   "nbconvert_exporter": "python",
   "pygments_lexer": "ipython3",
   "version": "3.12.1"
  }
 },
 "nbformat": 4,
 "nbformat_minor": 5
}
