{
 "cells": [
  {
   "cell_type": "code",
   "execution_count": 1,
   "id": "ef58576c-0a46-4f96-b80e-02305974712c",
   "metadata": {
    "ExecuteTime": {
     "end_time": "2025-06-03T07:58:53.080530Z",
     "start_time": "2025-06-03T07:58:52.983014Z"
    }
   },
   "outputs": [
    {
     "ename": "ImportError",
     "evalue": "attempted relative import with no known parent package",
     "output_type": "error",
     "traceback": [
      "\u001B[0;31m---------------------------------------------------------------------------\u001B[0m",
      "\u001B[0;31mImportError\u001B[0m                               Traceback (most recent call last)",
      "Cell \u001B[0;32mIn[1], line 4\u001B[0m\n\u001B[1;32m      1\u001B[0m \u001B[38;5;28;01mimport\u001B[39;00m \u001B[38;5;21;01msys\u001B[39;00m\n\u001B[1;32m      2\u001B[0m sys\u001B[38;5;241m.\u001B[39mpath\u001B[38;5;241m.\u001B[39mappend(\u001B[38;5;124m\"\u001B[39m\u001B[38;5;124m../../hw/base\u001B[39m\u001B[38;5;124m\"\u001B[39m)\n\u001B[0;32m----> 4\u001B[0m \u001B[38;5;28;01mfrom\u001B[39;00m \u001B[38;5;21;01mverification_utils\u001B[39;00m \u001B[38;5;28;01mimport\u001B[39;00m CHCs, mk_int_array\n",
      "File \u001B[0;32m~/PycharmProjects/techcs-236346/sw/verify/../../hw/base/verification_utils.py:5\u001B[0m\n\u001B[1;32m      1\u001B[0m \u001B[38;5;28;01mfrom\u001B[39;00m \u001B[38;5;21;01mz3\u001B[39;00m\u001B[38;5;21;01m.\u001B[39;00m\u001B[38;5;21;01mz3util\u001B[39;00m \u001B[38;5;28;01mimport\u001B[39;00m get_vars\n\u001B[1;32m      2\u001B[0m \u001B[38;5;28;01mfrom\u001B[39;00m \u001B[38;5;21;01mz3\u001B[39;00m \u001B[38;5;28;01mimport\u001B[39;00m SolverFor, ForAll, Implies, BitVecSort, BitVecVal, \\\n\u001B[1;32m      3\u001B[0m                K, Store, ArrayRef, IntSort, \\\n\u001B[1;32m      4\u001B[0m                FuncInterp, is_func_decl, substitute_vars, sat, unsat\n\u001B[0;32m----> 5\u001B[0m \u001B[38;5;28;01mfrom\u001B[39;00m \u001B[38;5;21;01m.\u001B[39;00m\u001B[38;5;21;01mpresentation_forms\u001B[39;00m \u001B[38;5;28;01mimport\u001B[39;00m vertically, table_repr, Legend\n\u001B[1;32m      6\u001B[0m \u001B[38;5;66;03m# import .boilerplate\u001B[39;00m\n\u001B[1;32m      9\u001B[0m \u001B[38;5;28;01mclass\u001B[39;00m \u001B[38;5;21;01mCHCs\u001B[39;00m:\n",
      "\u001B[0;31mImportError\u001B[0m: attempted relative import with no known parent package"
     ]
    }
   ],
   "source": [
    "import sys\n",
    "sys.path.append(\"../../hw/base\")\n",
    "\n",
    "from verification_utils import CHCs, mk_int_array"
   ]
  },
  {
   "cell_type": "code",
   "execution_count": 65,
   "id": "b0cf1962-c33e-421a-9a5f-44d6721ff97f",
   "metadata": {
    "ExecuteTime": {
     "end_time": "2025-04-25T07:14:52.929046Z",
     "start_time": "2025-04-25T07:14:52.923419Z"
    }
   },
   "outputs": [],
   "source": [
    "from z3 import *\n",
    "import z3\n",
    "z3.set_param(proof=True)  # this is needed so that we can call `.proof()` later"
   ]
  },
  {
   "cell_type": "markdown",
   "id": "c1379f86-ff7a-4254-82e1-73917db99989",
   "metadata": {},
   "source": [
    "## First example\n",
    "A loop-free program"
   ]
  },
  {
   "cell_type": "code",
   "execution_count": 66,
   "id": "0c126719-3bc0-4961-9761-cff27c28e77d",
   "metadata": {
    "ExecuteTime": {
     "end_time": "2025-04-25T07:14:52.934273Z",
     "start_time": "2025-04-25T07:14:52.930633Z"
    }
   },
   "outputs": [],
   "source": [
    "stack = Array('stack', IntSort(), IntSort())\n",
    "sp = Int('sp')\n",
    "state_vars = [stack, sp]\n",
    "\n",
    "a, b = input_vars = Ints('a b')"
   ]
  },
  {
   "cell_type": "code",
   "execution_count": 67,
   "id": "e6164d2d-1c47-4108-8791-046db832771b",
   "metadata": {
    "ExecuteTime": {
     "end_time": "2025-04-25T07:14:52.937803Z",
     "start_time": "2025-04-25T07:14:52.935232Z"
    }
   },
   "outputs": [],
   "source": [
    "U = {i: Function(f\"U{i}\", *(v.sort() for v in [*input_vars, *state_vars]), BoolSort())\n",
    "     for i in range(6)}"
   ]
  },
  {
   "cell_type": "code",
   "execution_count": 68,
   "id": "bb2dc9b0-39fa-415e-b34e-44859ed4b895",
   "metadata": {
    "ExecuteTime": {
     "end_time": "2025-04-25T07:14:52.947724Z",
     "start_time": "2025-04-25T07:14:52.938538Z"
    }
   },
   "outputs": [
    {
     "data": {
      "text/plain": "<verification_utils.CHCs at 0x107a42120>",
      "text/html": "<table style=\"background: white; color: black\"><tr><td style=\"text-align: left\">stack = Store(Store(K(Int, 0), 0, a), 1, b) &and; sp = 2 &rArr;\nU0(a, b, stack, sp)</td></tr><tr><td style=\"text-align: left\">U0(a, b, stack, sp) &rArr; U1(a, b, Store(stack, sp, 13), sp + 1)</td></tr><tr><td style=\"text-align: left\">U1(a, b, stack, sp) &rArr;\nU2(a,\n   b,\n   Store(stack, sp - 2, stack[sp - 1]&middot;stack[sp - 2]),\n   sp - 1)</td></tr><tr><td style=\"text-align: left\">U2(a, b, stack, sp) &rArr;\nU3(a,\n   b,\n   Store(stack, sp - 2, stack[sp - 1] + stack[sp - 2]),\n   sp - 1)</td></tr><tr><td style=\"text-align: left\">U3(a, b, stack, sp) &rArr; U4(a, b, stack, sp - 1)</td></tr><tr><td style=\"text-align: left\">U4(a, b, stack, sp) &rArr; stack[sp] = a + b&middot;13</td></tr></table>"
     },
     "execution_count": 68,
     "metadata": {},
     "output_type": "execute_result"
    }
   ],
   "source": [
    "sigma = [*input_vars, *state_vars]\n",
    "\n",
    "\"\"\"\n",
    "{ stack = [a, b] }\n",
    "PUSH 13\n",
    "POP 2; ALU MUL\n",
    "POP 2; ALU ADD\n",
    "POP 1\n",
    "{ ret = a + b * 13 }\n",
    "\"\"\"\n",
    "chcs = CHCs([\n",
    "    #Implies(And(stack[0] == a, stack[1] == b, sp == 2), U[0](sigma)),\n",
    "    Implies(And(stack == mk_int_array([a,b]), sp == 2), U[0](sigma)),\n",
    "    Implies(U[0](sigma), U[1](a, b, Store(stack, sp, 13), sp + 1)),\n",
    "    Implies(U[1](sigma), U[2](a, b, Store(stack, sp - 2, stack[sp - 1] * stack[sp - 2]), sp - 1)),\n",
    "    Implies(U[2](sigma), U[3](a, b, Store(stack, sp - 2, stack[sp - 1] + stack[sp - 2]), sp - 1)),\n",
    "    Implies(U[3](sigma), U[4](a, b, stack, sp - 1)),\n",
    "    Implies(U[4](sigma), stack[sp] == a + b * 13),\n",
    "])\n",
    "chcs"
   ]
  },
  {
   "cell_type": "code",
   "execution_count": 69,
   "id": "2b6d10a0-9e98-48ca-b922-d5302fdabebf",
   "metadata": {
    "ExecuteTime": {
     "end_time": "2025-04-25T07:14:53.007814Z",
     "start_time": "2025-04-25T07:14:52.948807Z"
    }
   },
   "outputs": [
    {
     "data": {
      "text/plain": "[U3 = [else ->\n       Or(And(Var(2) ==\n              Store(Store(Store(K(Int, 0), 2, 13),\n                          1,\n                          13*Var(1)),\n                    0,\n                    13*Var(1) + Var(0)),\n              Var(3) == 1),\n          And(Var(3) == 1,\n              Var(2) ==\n              Store(Store(Store(K(Int, 0), 2, 13),\n                          1,\n                          13*Var(1)),\n                    0,\n                    13*Var(1) + Var(0))))],\n U2 = [else ->\n       Or(And(Var(2) ==\n              Store(Store(Store(K(Int, 0), 0, Var(0)),\n                          2,\n                          13),\n                    1,\n                    13*Var(1)),\n              Var(3) == 2),\n          And(Var(3) == 2,\n              Var(2) ==\n              Store(Store(Store(K(Int, 0), 0, Var(0)),\n                          2,\n                          13),\n                    1,\n                    13*Var(1))))],\n U1 = [else ->\n       Or(And(Var(2) ==\n              Store(Store(Store(K(Int, 0), 0, Var(0)),\n                          1,\n                          Var(1)),\n                    2,\n                    13),\n              Var(3) == 3),\n          And(Var(3) == 3,\n              Var(2) ==\n              Store(Store(Store(K(Int, 0), 0, Var(0)),\n                          1,\n                          Var(1)),\n                    2,\n                    13)))],\n U0 = [else ->\n       And(Var(2) ==\n           Store(Store(K(Int, 0), 0, Var(0)), 1, Var(1)),\n           Var(3) == 2)],\n U4 = [else ->\n       Or(And(Var(2) ==\n              Store(Store(Store(K(Int, 0), 2, 13),\n                          1,\n                          13*Var(1)),\n                    0,\n                    13*Var(1) + Var(0)),\n              Var(3) == 0),\n          And(Var(3) == 0,\n              Var(2) ==\n              Store(Store(Store(K(Int, 0), 2, 13),\n                          1,\n                          13*Var(1)),\n                    0,\n                    13*Var(1) + Var(0))))]]",
      "text/html": "<table style=\"background: white; color: black\"><tr><td style=\"text-align: left\">U3</td><td style=\"text-align: left\">&#957;<sub>2</sub> =\nStore(Store(Store(K(Int, 0), 2, 13), 1, 13&middot;&#957;<sub>1</sub>), 0, 13&middot;&#957;<sub>1</sub> + &#957;<sub>0</sub>) &and;\n&#957;<sub>3</sub> = 1 &or;\n&#957;<sub>3</sub> = 1 &and;\n&#957;<sub>2</sub> =\nStore(Store(Store(K(Int, 0), 2, 13), 1, 13&middot;&#957;<sub>1</sub>), 0, 13&middot;&#957;<sub>1</sub> + &#957;<sub>0</sub>)</td></tr><tr><td style=\"text-align: left\">U2</td><td style=\"text-align: left\">&#957;<sub>2</sub> = Store(Store(Store(K(Int, 0), 0, &#957;<sub>0</sub>), 2, 13), 1, 13&middot;&#957;<sub>1</sub>) &and;\n&#957;<sub>3</sub> = 2 &or;\n&#957;<sub>3</sub> = 2 &and;\n&#957;<sub>2</sub> = Store(Store(Store(K(Int, 0), 0, &#957;<sub>0</sub>), 2, 13), 1, 13&middot;&#957;<sub>1</sub>)</td></tr><tr><td style=\"text-align: left\">U1</td><td style=\"text-align: left\">&#957;<sub>2</sub> = Store(Store(Store(K(Int, 0), 0, &#957;<sub>0</sub>), 1, &#957;<sub>1</sub>), 2, 13) &and;\n&#957;<sub>3</sub> = 3 &or;\n&#957;<sub>3</sub> = 3 &and;\n&#957;<sub>2</sub> = Store(Store(Store(K(Int, 0), 0, &#957;<sub>0</sub>), 1, &#957;<sub>1</sub>), 2, 13)</td></tr><tr><td style=\"text-align: left\">U0</td><td style=\"text-align: left\">&#957;<sub>2</sub> = Store(Store(K(Int, 0), 0, &#957;<sub>0</sub>), 1, &#957;<sub>1</sub>) &and; &#957;<sub>3</sub> = 2</td></tr><tr><td style=\"text-align: left\">U4</td><td style=\"text-align: left\">&#957;<sub>2</sub> =\nStore(Store(Store(K(Int, 0), 2, 13), 1, 13&middot;&#957;<sub>1</sub>), 0, 13&middot;&#957;<sub>1</sub> + &#957;<sub>0</sub>) &and;\n&#957;<sub>3</sub> = 0 &or;\n&#957;<sub>3</sub> = 0 &and;\n&#957;<sub>2</sub> =\nStore(Store(Store(K(Int, 0), 2, 13), 1, 13&middot;&#957;<sub>1</sub>), 0, 13&middot;&#957;<sub>1</sub> + &#957;<sub>0</sub>)</td></tr></table>"
     },
     "execution_count": 69,
     "metadata": {},
     "output_type": "execute_result"
    }
   ],
   "source": [
    "s = chcs.solve({\n",
    "   #'xform.inline_eager': False,\n",
    "   #'xform.inline_linear': False\n",
    "})\n",
    "s"
   ]
  },
  {
   "cell_type": "markdown",
   "id": "ef2355bb-9351-4752-a02a-45a9843cb19c",
   "metadata": {},
   "source": [
    "## Second Example: A Loop That Computes Addition\n",
    "\n",
    "The very basic: two input variables, two local variables."
   ]
  },
  {
   "cell_type": "code",
   "execution_count": 70,
   "id": "a958bbac-4932-4613-a286-be38ca949c1b",
   "metadata": {
    "ExecuteTime": {
     "end_time": "2025-04-25T07:14:53.013961Z",
     "start_time": "2025-04-25T07:14:53.008386Z"
    }
   },
   "outputs": [
    {
     "data": {
      "text/plain": "<verification_utils.CHCs at 0x1065fc2c0>",
      "text/html": "<table style=\"background: white; color: black\"><tr><td style=\"text-align: left\">b &gt; 0 &rArr; inv(a, b, a, 0)</td></tr><tr><td style=\"text-align: left\">inv(a, b, x, y) &and; y &lt; b &rArr; inv(a, b, x + 1, y + 1)</td></tr><tr><td style=\"text-align: left\">inv(a, b, x, y) &and; y &ge; b &and; &not;(x = a + b) &rArr; False</td></tr></table>"
     },
     "execution_count": 70,
     "metadata": {},
     "output_type": "execute_result"
    }
   ],
   "source": [
    "x, y = Ints(\"x y\")\n",
    "\n",
    "Inv = Function(\"inv\", a.sort(), b.sort(), x.sort(), y.sort(), BoolSort())\n",
    "\n",
    "chcs = CHCs([\n",
    "    Implies(And(b > 0), Inv(a, b, a, 0)),\n",
    "    Implies(And(Inv(a, b, x, y), y < b), Inv(a, b, x + 1, y + 1)),\n",
    "    Implies(And(Inv(a, b, x, y), y >= b, Not(x == a + b)), False)\n",
    "])\n",
    "chcs"
   ]
  },
  {
   "cell_type": "code",
   "execution_count": 71,
   "id": "ce666db1-6547-4149-afd9-e4b625adb0a3",
   "metadata": {
    "tags": [],
    "ExecuteTime": {
     "end_time": "2025-04-25T07:14:53.049648Z",
     "start_time": "2025-04-25T07:14:53.014614Z"
    }
   },
   "outputs": [
    {
     "data": {
      "text/plain": "[inv = [else ->\n        And(Not(Var(2) + -1*Var(3) + -1*Var(0) >= 1),\n            Not(Var(2) + -1*Var(0) + -1*Var(1) >= 1),\n            Not(Var(2) + -1*Var(3) + -1*Var(0) <= -1))]]",
      "text/html": "<table style=\"background: white; color: black\"><tr><td style=\"text-align: left\">inv</td><td style=\"text-align: left\">&not;(&#957;<sub>2</sub> + -1&middot;&#957;<sub>3</sub> + -1&middot;&#957;<sub>0</sub> &ge; 1) &and;\n&not;(&#957;<sub>2</sub> + -1&middot;&#957;<sub>0</sub> + -1&middot;&#957;<sub>1</sub> &ge; 1) &and;\n&not;(&#957;<sub>2</sub> + -1&middot;&#957;<sub>3</sub> + -1&middot;&#957;<sub>0</sub> &le; -1)</td></tr></table>"
     },
     "execution_count": 71,
     "metadata": {},
     "output_type": "execute_result"
    }
   ],
   "source": [
    "s = chcs.solve()\n",
    "s"
   ]
  },
  {
   "cell_type": "code",
   "execution_count": 72,
   "id": "1e839ca8-249b-44e1-8eae-f82c2c537f5a",
   "metadata": {
    "ExecuteTime": {
     "end_time": "2025-04-25T07:14:53.057829Z",
     "start_time": "2025-04-25T07:14:53.050295Z"
    }
   },
   "outputs": [],
   "source": [
    "# this can be useful if you want to write the Horn clauses to a file\n",
    "with open('simple.smt2', 'w') as f:\n",
    "    f.write(f'(set-logic HORN)\\n{chcs.create_solver().to_smt2()}')"
   ]
  },
  {
   "cell_type": "markdown",
   "id": "59f7b747-cd43-474f-b6b2-42e511c07740",
   "metadata": {},
   "source": [
    "### Stack version: attempt #1"
   ]
  },
  {
   "cell_type": "code",
   "execution_count": 73,
   "id": "1cbe3061-79b1-4be7-8f7e-64b8621ca385",
   "metadata": {
    "ExecuteTime": {
     "end_time": "2025-04-25T07:14:53.065757Z",
     "start_time": "2025-04-25T07:14:53.058471Z"
    }
   },
   "outputs": [
    {
     "data": {
      "text/plain": "<verification_utils.CHCs at 0x107a405c0>",
      "text/html": "<table style=\"background: white; color: black\"><tr><td style=\"text-align: left\">stack =\nStore(Store(Store(Store(K(Int, 0), 0, a), 1, b), 2, a),\n      3,\n      0) &and;\nsp = 4 &and;\nb &gt; 0 &rArr;\ninv(a, b, stack, sp)</td></tr><tr><td style=\"text-align: left\">inv(a,\n    b,\n    Store(Store(Store(Store(K(Int, 0), 0, a), 1, b), 2, x),\n          3,\n          y),\n    sp) &and;\ny &lt; b &rArr;\ninv(a,\n    b,\n    Store(Store(Store(Store(K(Int, 0), 0, a), 1, b),\n                2,\n                x + 1),\n          3,\n          y + 1),\n    sp)</td></tr><tr><td style=\"text-align: left\">inv(a,\n    b,\n    Store(Store(Store(Store(K(Int, 0), 0, a), 1, b), 2, x),\n          3,\n          y),\n    sp) &and;\ny &ge; b &rArr;\nx = a + b</td></tr></table>"
     },
     "execution_count": 73,
     "metadata": {},
     "output_type": "execute_result"
    }
   ],
   "source": [
    "x, y = Ints(\"x y\")\n",
    "Inv = Function(\"inv\", a.sort(), b.sort(), stack.sort(), sp.sort(), BoolSort())\n",
    "\n",
    "chcs = CHCs([\n",
    "    Implies(And(stack == mk_int_array([a,b,a,0]), sp == 4, b > 0), Inv(sigma)),\n",
    "    Implies(And(Inv(a, b, mk_int_array([a, b, x, y]), sp), y < b),\n",
    "            Inv(a, b, mk_int_array([a, b, x + 1, y + 1]), sp)),\n",
    "    Implies(And(Inv(a, b, mk_int_array([a, b, x, y]), sp), y >= b), x == a + b)\n",
    "])\n",
    "    \n",
    "chcs"
   ]
  },
  {
   "cell_type": "code",
   "execution_count": 74,
   "id": "418771e3-1c9d-4bcf-ada1-041231c2cbb0",
   "metadata": {
    "ExecuteTime": {
     "end_time": "2025-04-25T07:15:03.097023Z",
     "start_time": "2025-04-25T07:14:53.066393Z"
    }
   },
   "outputs": [
    {
     "name": "stdout",
     "output_type": "stream",
     "text": [
      "CPU times: user 9.81 s, sys: 210 ms, total: 10 s\n",
      "Wall time: 10 s\n"
     ]
    }
   ],
   "source": [
    "%time s = chcs.solve({'timeout': 10000})"
   ]
  },
  {
   "cell_type": "markdown",
   "id": "0d08b3a4-19ff-46d4-b1ef-dd17f484b5a8",
   "metadata": {},
   "source": [
    "This did not work. The explicit array creation seems to be too much for Spacer to solve. While it is hard to find the root cause of the divergence, we might wish to explore alternative encodings of the problem.\n",
    "\n",
    "### Stack version: attempt #2\n",
    "\n",
    "Here we use two input variables `a`, `b` and a stack for the temp vars. `x` is stored at `stack[0]` and `y` is stored at `stack[1]`."
   ]
  },
  {
   "cell_type": "code",
   "execution_count": 75,
   "id": "cb451eda-a7af-47ec-8eca-a8d5da564d64",
   "metadata": {
    "ExecuteTime": {
     "end_time": "2025-04-25T07:15:03.104071Z",
     "start_time": "2025-04-25T07:15:03.098406Z"
    }
   },
   "outputs": [
    {
     "data": {
      "text/plain": "<verification_utils.CHCs at 0x107a40f20>",
      "text/html": "<table style=\"background: white; color: black\"><tr><td style=\"text-align: left\">b &gt; 0 &and; stack[0] = a &and; stack[1] = 0 &rArr; inv(a, b, stack)</td></tr><tr><td style=\"text-align: left\">inv(a, b, stack) &and; stack[0] = x &and; stack[1] = y &and; y &lt; b &rArr;\ninv(a, b, Store(Store(stack, 0, x + 1), 1, y + 1))</td></tr><tr><td style=\"text-align: left\">inv(a, b, stack) &and; stack[0] = x &and; stack[1] = y &and; y &ge; b &rArr;\nx = a + b</td></tr></table>"
     },
     "execution_count": 75,
     "metadata": {},
     "output_type": "execute_result"
    }
   ],
   "source": [
    "Inv = Function('inv', a.sort(), b.sort(), stack.sort(), BoolSort())\n",
    "\n",
    "chcs = CHCs([\n",
    "    Implies(And(b > 0, stack[0] == a, stack[1] == 0), Inv(a, b, stack)),\n",
    "    Implies(And(Inv(a, b, stack), stack[0] == x, stack[1] == y, y < b), Inv(a, b, Store(Store(stack, 0, x + 1), 1, y + 1))),\n",
    "    Implies(And(Inv(a, b, stack), stack[0] == x, stack[1] == y, y >= b), x == a + b)\n",
    "])\n",
    "chcs"
   ]
  },
  {
   "cell_type": "code",
   "execution_count": 76,
   "id": "0e818bbb-e5a3-4037-a01b-8e7494ecc063",
   "metadata": {
    "ExecuteTime": {
     "end_time": "2025-04-25T07:15:03.129263Z",
     "start_time": "2025-04-25T07:15:03.104541Z"
    }
   },
   "outputs": [
    {
     "data": {
      "text/plain": "[inv = [else ->\n        And(Not(Var(2)[0] + -1*Var(1) + -1*Var(0) >= 1),\n            Not(Var(2)[1] + -1*Var(2)[0] + Var(0) >= 1),\n            Not(Var(2)[1] + -1*Var(2)[0] + Var(0) <= -1))]]",
      "text/html": "<table style=\"background: white; color: black\"><tr><td style=\"text-align: left\">inv</td><td style=\"text-align: left\">&not;(&#957;<sub>2</sub>[0] + -1&middot;&#957;<sub>1</sub> + -1&middot;&#957;<sub>0</sub> &ge; 1) &and;\n&not;(&#957;<sub>2</sub>[1] + -1&middot;&#957;<sub>2</sub>[0] + &#957;<sub>0</sub> &ge; 1) &and;\n&not;(&#957;<sub>2</sub>[1] + -1&middot;&#957;<sub>2</sub>[0] + &#957;<sub>0</sub> &le; -1)</td></tr></table>"
     },
     "execution_count": 76,
     "metadata": {},
     "output_type": "execute_result"
    }
   ],
   "source": [
    "s = chcs.solve()\n",
    "#s.set('xform.inline_eager', False)\n",
    "#s.set('xform.inline_linear', False)\n",
    "s"
   ]
  },
  {
   "cell_type": "code",
   "execution_count": 77,
   "id": "e921738c-22d7-4558-afd6-787a1a45d42d",
   "metadata": {
    "ExecuteTime": {
     "end_time": "2025-04-25T07:15:03.142373Z",
     "start_time": "2025-04-25T07:15:03.129864Z"
    }
   },
   "outputs": [
    {
     "ename": "NameError",
     "evalue": "name 'res' is not defined",
     "output_type": "error",
     "traceback": [
      "\u001B[0;31m---------------------------------------------------------------------------\u001B[0m",
      "\u001B[0;31mNameError\u001B[0m                                 Traceback (most recent call last)",
      "Cell \u001B[0;32mIn[77], line 2\u001B[0m\n\u001B[1;32m      1\u001B[0m \u001B[38;5;28;01mfrom\u001B[39;00m \u001B[38;5;21;01mverification_utils\u001B[39;00m \u001B[38;5;28;01mimport\u001B[39;00m HyperResolutionProof\n\u001B[0;32m----> 2\u001B[0m HyperResolutionProof(s\u001B[38;5;241m.\u001B[39mproof())\u001B[38;5;241m.\u001B[39mto_roadmap()    \u001B[38;5;28;01mif\u001B[39;00m \u001B[43mres\u001B[49m \u001B[38;5;241m==\u001B[39m unsat \u001B[38;5;28;01melse\u001B[39;00m s\u001B[38;5;241m.\u001B[39mmodel()\n",
      "\u001B[0;31mNameError\u001B[0m: name 'res' is not defined"
     ]
    }
   ],
   "source": [
    "from verification_utils import HyperResolutionProof\n",
    "HyperResolutionProof(s.proof()).to_roadmap()    if res == unsat else s.model()"
   ]
  },
  {
   "cell_type": "markdown",
   "id": "5ee6ff30-a406-4399-ad05-7dc7234d5d19",
   "metadata": {},
   "source": [
    "Cool. Now let's make it gradually more realistic by expressing our proper stack semantics.\n",
    "\n",
    "### Stack version: using `sp`\n",
    "Very similar to before, but variable offsets are relative to `sp`, like in StaM."
   ]
  },
  {
   "cell_type": "code",
   "execution_count": null,
   "id": "39b001e6-a28c-4202-9034-aebf5adb3114",
   "metadata": {
    "ExecuteTime": {
     "end_time": "2025-04-25T07:15:03.142979Z",
     "start_time": "2025-04-25T07:15:03.142937Z"
    }
   },
   "outputs": [],
   "source": [
    "Inv = Function('inv', a.sort(), b.sort(), stack.sort(), sp.sort(), BoolSort())\n",
    "\n",
    "chcs = CHCs([\n",
    "    Implies(And(b > 0, stack[sp - 2] == a, stack[sp - 1] == 0), Inv(a, b, stack, sp)),\n",
    "    Implies(And(Inv(a, b, stack, sp), stack[sp - 2] == x, stack[sp - 1] == y, y < b),\n",
    "            Inv(a, b, Store(Store(stack, sp - 2, x + 1), sp - 1, y + 1), sp)),\n",
    "    Implies(And(Inv(a, b, stack, sp), stack[sp - 2] == x, stack[sp - 1] == y, y >= b), x == a + b)\n",
    "])\n",
    "chcs"
   ]
  },
  {
   "cell_type": "code",
   "execution_count": null,
   "id": "a985a751-5264-43b0-b081-bcd45146c435",
   "metadata": {},
   "outputs": [],
   "source": [
    "s = chcs.create_solver()\n",
    "(res := s.check())"
   ]
  },
  {
   "cell_type": "code",
   "execution_count": null,
   "id": "75b66dfc-18fb-45e0-b170-39bb11142a92",
   "metadata": {},
   "outputs": [],
   "source": [
    "HyperResolutionProof(s.proof()).to_roadmap()    if res == unsat else None"
   ]
  },
  {
   "cell_type": "markdown",
   "id": "52fd0932-dd3b-4e4a-8e7b-b5f0a849f88b",
   "metadata": {},
   "source": [
    "## Stack version: all in the stack\n",
    "Also similar, but the input arguments `a` and `b` are now also stored on the stack."
   ]
  },
  {
   "cell_type": "code",
   "execution_count": null,
   "id": "3889e2ab-ec96-4fbc-8f2a-bbc7be2a55b7",
   "metadata": {},
   "outputs": [],
   "source": [
    "Inv = Function('inv', stack.sort(), sp.sort(), BoolSort())\n",
    "\n",
    "p = And(stack[sp - 4] == a, stack[sp - 3] == b)\n",
    "\n",
    "chcs = CHCs([\n",
    "    Implies(And(p, b > 0, stack[sp - 2] == a, stack[sp - 1] == 0), Inv(stack, sp)),\n",
    "    Implies(And(p, Inv(stack, sp), stack[sp - 2] == x, stack[sp - 1] == y, y < b),\n",
    "            Inv(Store(Store(stack, sp - 2, x + 1), sp - 1, y + 1), sp)),\n",
    "    Implies(And(p, Inv(stack, sp), stack[sp - 2] == x, stack[sp - 1] == y, y >= b), x == a + b)\n",
    "])\n",
    "chcs"
   ]
  },
  {
   "cell_type": "code",
   "execution_count": null,
   "id": "a6c1dc2b-a452-40e6-b1e6-58be91eeb46f",
   "metadata": {},
   "outputs": [],
   "source": [
    "s = chcs.create_solver()\n",
    "(res := s.check())"
   ]
  },
  {
   "cell_type": "markdown",
   "id": "cf250a67-3fe4-4b26-8067-08036ac9320a",
   "metadata": {},
   "source": [
    "## Stack version: money time; doing it in assembly\n",
    "\n",
    "Now let's write the function's implementation in StASM, and observe the CHCs that encode its behavior. Here we do the translation manually. In your project, you will generate those clauses automatically from the StASM code."
   ]
  },
  {
   "cell_type": "code",
   "execution_count": null,
   "id": "0554729a-a078-48fa-9d6e-bbb256c2c000",
   "metadata": {},
   "outputs": [],
   "source": [
    "\"\"\"\n",
    "{ stack = [a, b] ∧ b > 0 }\n",
    "  DUP 1\n",
    "  PUSH 0\n",
    "loop:\n",
    "  DUP; DUP 2; POP 2; ALU LT; POP 1; JZ exit\n",
    "  DUP 1; PUSH 1; POP 2; ALU ADD\n",
    "  DUP 1; PUSH 1; POP 2; ALU ADD\n",
    "  YANK 2,2\n",
    "  JMP loop\n",
    "exit:\n",
    "  POP 1\n",
    "{ stack = [a, b, a + b] }\n",
    "\"\"\"\n",
    "\n",
    "sigma = [*state_vars]\n",
    "\n",
    "U = {i: Function(f\"U{i}\", *(v.sort() for v in sigma), BoolSort())\n",
    "     for i in range(9)}\n",
    "\n",
    "chcs = CHCs([\n",
    "    # assume { stack = [a, b] ∧ b > 0 }\n",
    "    Implies(stack[sp - 1] > 0, U[0](sigma)),\n",
    "    # DUP 1; PUSH 0\n",
    "    Implies(U[0](sigma), U[1](Store(Store(stack, sp, stack[sp - 2]), sp + 1, 0), sp + 2)),\n",
    "    # DUP; DUP 2\n",
    "    Implies(U[1](sigma), U[2](Store(Store(stack, sp, stack[sp - 1]), sp + 1, stack[sp - 3]), sp + 2)),\n",
    "    # POP 2; ALU LT; POP 1; JZ exit\n",
    "    Implies(And(U[2](sigma), stack[sp - 2] < stack[sp - 1]), U[3](stack, sp - 2)),\n",
    "    Implies(And(U[2](sigma), stack[sp - 2] >= stack[sp - 1]), U[7](stack, sp - 2)),\n",
    "    # DUP 1; PUSH 1; POP 2; ALU ADD\n",
    "    Implies(U[3](sigma), U[4](Store(stack, sp, stack[sp - 2] + 1), sp + 1)),\n",
    "    # DUP 1; PUSH 1; POP 2; ALU ADD\n",
    "    Implies(U[4](sigma), U[5](Store(stack, sp, stack[sp - 2] + 1), sp + 1)),\n",
    "    # YANK 2,2\n",
    "    Implies(U[5](sigma), U[6](Store(Store(stack, sp - 4, stack[sp - 2]), sp - 3, stack[sp - 1]), sp - 2)),\n",
    "    # JMP loop\n",
    "    Implies(U[6](sigma), U[1](sigma)),\n",
    "    # exit:\n",
    "    # POP 1\n",
    "    Implies(U[7](sigma), U[8](stack, sp - 1)),\n",
    "    # assert { stack = [a, b, a + b] }\n",
    "    Implies(U[8](sigma), stack[sp - 1] == stack[sp - 3] + stack[sp - 2])\n",
    "])\n",
    "chcs"
   ]
  },
  {
   "cell_type": "code",
   "execution_count": null,
   "id": "bad7fb81-0948-4908-941b-001b772c99cc",
   "metadata": {},
   "outputs": [],
   "source": [
    "s = chcs.create_solver()\n",
    "s.set('fp.spacer.global', True)    # *THIS IS REQUIRED*\n",
    "#s.set('xform.inline_eager', False)\n",
    "#s.set('xform.inline_linear', False)\n",
    "%time (res := s.check())"
   ]
  },
  {
   "cell_type": "code",
   "execution_count": null,
   "id": "53ecd8c3-fd99-4752-9dbd-88ecb8770583",
   "metadata": {},
   "outputs": [],
   "source": [
    "HyperResolutionProof(s.proof()).to_roadmap()    if res == unsat else s.model()"
   ]
  },
  {
   "cell_type": "markdown",
   "id": "128ed35d-1ab9-4f8d-ae65-b2b7dc470b68",
   "metadata": {},
   "source": [
    "### Exercise\n",
    "Modify some nit in the CHCs for the program above, simulating a buggy program. The result should be `unsat`. Generate the trace with the `HyperResolutionProof` shown above (which is like we did in hardware model checking).\n",
    "Try to uncomment the lines setting the flags `xform.inline_eager` and `xform.inline_linear`, disabling some of Spacer's preprocessing optimizations, in order to get a fuller trace.\n",
    "If you are getting large values for `sp` (_e.g._ 21353), add a constraint somewhere that delimits its range for, say, 0..10."
   ]
  }
 ],
 "metadata": {
  "kernelspec": {
   "display_name": "Python 3 (ipykernel)",
   "language": "python",
   "name": "python3"
  },
  "language_info": {
   "codemirror_mode": {
    "name": "ipython",
    "version": 3
   },
   "file_extension": ".py",
   "mimetype": "text/x-python",
   "name": "python",
   "nbconvert_exporter": "python",
   "pygments_lexer": "ipython3",
   "version": "3.12.1"
  }
 },
 "nbformat": 4,
 "nbformat_minor": 5
}
