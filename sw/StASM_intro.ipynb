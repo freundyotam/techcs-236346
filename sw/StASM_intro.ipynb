{
 "cells": [
  {
   "cell_type": "markdown",
   "source": [
    "# Warmup Exercise #\n",
    "First lets import the necessary libraries:"
   ],
   "metadata": {
    "collapsed": false
   },
   "id": "46da751ed7730e13"
  },
  {
   "cell_type": "code",
   "outputs": [],
   "source": [
    "from basics import asm_interp"
   ],
   "metadata": {
    "collapsed": false,
    "ExecuteTime": {
     "end_time": "2025-04-22T14:36:44.679762Z",
     "start_time": "2025-04-22T14:36:44.676207Z"
    }
   },
   "id": "838adec5f3d2a4b0",
   "execution_count": 1
  },
  {
   "cell_type": "markdown",
   "source": [
    "Now let's define some helper functions for the first exersice to help us with the StASM code.\n"
   ],
   "metadata": {
    "collapsed": false
   },
   "id": "527a694cd77e285a"
  },
  {
   "cell_type": "code",
   "outputs": [],
   "source": [
    "def STORE(addr, value):\n",
    "    \"\"\"\n",
    "    Store value in addr.\n",
    "    We will use this function to test our implementation\n",
    "    \"\"\"\n",
    "    return [\n",
    "        (\"PUSH\", value),\n",
    "        (\"PUSH\", addr),\n",
    "        (\"POP\", 2),\n",
    "        (\"STOR\", 0)\n",
    "    ]\n",
    "\n",
    "def READ_FROM_ARRAY():\n",
    "    \"\"\"\n",
    "    Pops the top as index and then base addr and push the value at that index from the array at addr\n",
    "    :return:\n",
    "    \"\"\"\n",
    "    return [\n",
    "        (\"POP\", 2),  # r0 = index, r1 = base addr\n",
    "        (\"ALU\", \"ADD\"),  # push base addr + index\n",
    "        (\"POP\", 1),   # r0 = base addr + index\n",
    "        (\"LOAD\", 0),  # push value at base addr + index\n",
    "    ]"
   ],
   "metadata": {
    "collapsed": false,
    "ExecuteTime": {
     "end_time": "2025-04-22T14:36:44.682300Z",
     "start_time": "2025-04-22T14:36:44.680637Z"
    }
   },
   "id": "b77517e1e3a317eb",
   "execution_count": 2
  },
  {
   "cell_type": "markdown",
   "source": [
    "Comment: \n",
    "Since I didn't find in the PDF what is the convention for calling a function and returning a value, I decided to use the common convention of returning the value via some register (I picked r1) and for calling a function we pass the args on the stack from first to last.\n",
    "for example:\n",
    "```\n",
    "fuction foo(a, b, c):\n",
    "    # some logic\n",
    "    return d\n",
    "```\n",
    "The stack for calling foo should look like:\n",
    "[a, b, c]\n",
    "(The stack grows this way -->)\n",
    "and the ret value from foo is saved at r1,\n",
    "so at the end of foo in our example the stack will look like:\n",
    "[]\n",
    "and register r1 contains d.\n"
   ],
   "metadata": {
    "collapsed": false
   },
   "id": "1ce897bfac22701c"
  },
  {
   "cell_type": "markdown",
   "source": [
    "## First Exercise ##\n",
    "For the first exercise, the program is:\n",
    "```\n",
    "for (at = 0; at < n; at++) {\n",
    "    if (a[at] == v) break;\n",
    "}\n",
    "return at;\n",
    "```\n"
   ],
   "metadata": {
    "collapsed": false
   },
   "id": "fedcf3ce292c98c2"
  },
  {
   "cell_type": "markdown",
   "source": [
    "As I said before, we assume we get the functions arg on the stack, so the stack looks like this:\n",
    "[base_addr, n, v]\n",
    "\n",
    "The StASM code will be:"
   ],
   "metadata": {
    "collapsed": false
   },
   "id": "3e6f2c83d9cfa3a6"
  },
  {
   "cell_type": "code",
   "outputs": [],
   "source": [
    "program_find_v = [\n",
    "    (\"PUSH\", 0x0),  # int i = 0\n",
    "    \"CHECK_COND:\",\n",
    "    (\"DUP\", 0),  # Push i on stack\n",
    "    (\"DUP\", 3),  # Push n on stack\n",
    "    (\"POP\", 2),  # r0 = i, r1 = n\n",
    "    (\"ALU\", \"LT\"),  # Compare i < n\n",
    "    (\"POP\", 1),  # r0 = comparison result\n",
    "    (\"JNZ\", \"LOOP_BODY\"),  # If i < n, jump to loop body\n",
    "    (\"JMP\", \"NOT_FOUND\"),  # Otherwise, exit loop\n",
    "    \"INC_I:\",  # Increment i\n",
    "    (\"PUSH\", 1),  # Push constant 1\n",
    "    (\"POP\", 2),  # r0 = i r1 = 1\n",
    "    (\"ALU\", \"ADD\"),  # Push i + 1\n",
    "    (\"JMP\", \"CHECK_COND\"),  # Jump to check condition\n",
    "    \"LOOP_BODY:\",\n",
    "    (\"DUP\", 0),  # Push i on stack\n",
    "    (\"DUP\", 4),  # Push base_addr on stack\n",
    "    *READ_FROM_ARRAY(),  # Push a[i]\n",
    "    (\"DUP\", 2),\n",
    "    (\"POP\", 2),\n",
    "    (\"ALU\", \"SUB\"),\n",
    "    (\"POP\", 1),  # r0 = a[i] - v\n",
    "    (\"JZ\", \"FOUND\"),  # If a[i] == v, jump to found\n",
    "    (\"JMP\", \"INC_I\"),  # Otherwise, check condition\n",
    "    \"FOUND:\",  # Found the value\n",
    "    (\"POP\", 2),  # Emptying the stack\n",
    "    (\"POP\", 2),\n",
    "    (\"PUSH\", 1),  # Push True\n",
    "    (\"PUSH\", 1),  # Push True\n",
    "    (\"JMP\", \"END\"),  # Jump to end\n",
    "    \"NOT_FOUND:\",  # Not found\n",
    "    (\"POP\", 2),  # Emptying the stack\n",
    "    (\"POP\", 2),\n",
    "    (\"PUSH\", 0),  # Push False\n",
    "    (\"PUSH\", 0),  # Push False\n",
    "    \"END:\",\n",
    "    (\"POP\", 2)\n",
    "]"
   ],
   "metadata": {
    "collapsed": false,
    "ExecuteTime": {
     "end_time": "2025-04-22T14:36:44.686005Z",
     "start_time": "2025-04-22T14:36:44.682929Z"
    }
   },
   "id": "45af08d625c06774",
   "execution_count": 3
  },
  {
   "cell_type": "markdown",
   "source": [
    "# Tests #\n",
    "We will define the following function that will help us test the code:"
   ],
   "metadata": {
    "collapsed": false
   },
   "id": "d7e855e3693d4a10"
  },
  {
   "cell_type": "code",
   "outputs": [],
   "source": [
    "from array import array\n",
    "\n",
    "def test_vm(pre_stack_layout, pre_mem_layout, program, post_stack_layout, post_mem_layout, return_val):\n",
    "    \"\"\"\n",
    "    This function will test the program by executing it with the given stack and memory layouts \n",
    "    and checking if the final stack and memory layouts match the expected ones.\n",
    "    :param pre_stack_layout: The stack before executing the program\n",
    "    :param pre_mem_layout: The memory before executing the program\n",
    "    :param program: The program to execute\n",
    "    :param post_stack_layout: The expected stack after executing the program\n",
    "    :param post_mem_layout: The expected memory after executing the program\n",
    "    :param return_val: The expected return value\n",
    "    :return: True if the test passed, False otherwise\n",
    "    \"\"\"\n",
    "    SETUP_STACK_COMMANDS = [(\"PUSH\", value) for value in pre_stack_layout]\n",
    "    SETUP_MEM_COMMANDS = [STORE(i, value) for i, value in enumerate(pre_mem_layout)]\n",
    "    SETUP_MEM_COMMANDS = [cmd for sublist in SETUP_MEM_COMMANDS for cmd in sublist] # Flatten list of lists\n",
    "    inter = asm_interp.AsmInterp()\n",
    "    inter.execute_program(SETUP_STACK_COMMANDS + SETUP_MEM_COMMANDS)\n",
    "    print(f\"State after setup: \\n{inter}\")\n",
    "    inter.execute_program(program)\n",
    "    print(\"\\nTESTS:\")\n",
    "    assert inter.stack == post_stack_layout, f\"Expected stack: {post_stack_layout}, but got: {inter.stack}\"\n",
    "    print(\"✔️ Stack state passed\")\n",
    "    assert inter.memory == array('H', post_mem_layout), f\"Expected memory: {post_mem_layout}, but got: {inter.memory.tolist()}\"\n",
    "    print(\"✔️ Memory state passed\")\n",
    "    assert inter.r1 == return_val, f\"Expected return value: {return_val}, but got: {inter.r1}\"\n",
    "    print(f\"✔️ Return value is correct (r1 is {return_val})\")\n",
    "    \n",
    "    print(\"\\nFinal state of VM: \\n\", inter)\n",
    "    \n",
    "    "
   ],
   "metadata": {
    "collapsed": false,
    "ExecuteTime": {
     "end_time": "2025-04-22T14:36:44.689040Z",
     "start_time": "2025-04-22T14:36:44.686606Z"
    }
   },
   "id": "96299091e5e4d647",
   "execution_count": 4
  },
  {
   "cell_type": "markdown",
   "source": [
    "To test the function we'll first provide some tests:"
   ],
   "metadata": {
    "collapsed": false
   },
   "id": "5cfa407d7add223a"
  },
  {
   "cell_type": "markdown",
   "source": [
    "## Test 1 ##"
   ],
   "metadata": {
    "collapsed": false
   },
   "id": "d62c48bd41e4e89f"
  },
  {
   "cell_type": "code",
   "outputs": [
    {
     "name": "stdout",
     "output_type": "stream",
     "text": [
      "State after setup: \n",
      "stack: [0, 4, 8]\n",
      "r0: 3, r1: 3\n",
      "mem: [2, 8, 1, 3]\n",
      "\n",
      "TESTS:\n",
      "✔️ Stack state passed\n",
      "✔️ Memory state passed\n",
      "✔️ Return value is correct (r1 is 1)\n",
      "\n",
      "Final state of VM: \n",
      " stack: []\n",
      "r0: 1, r1: 1\n",
      "mem: [2, 8, 1, 3]\n"
     ]
    }
   ],
   "source": [
    "test_vm(pre_stack_layout=[0, 4, 8],\n",
    "        pre_mem_layout=[2, 8, 1, 3],\n",
    "        program=program_find_v, \n",
    "        post_stack_layout=[],\n",
    "        post_mem_layout=[2, 8, 1, 3],\n",
    "        return_val=1)"
   ],
   "metadata": {
    "collapsed": false,
    "ExecuteTime": {
     "end_time": "2025-04-22T14:36:44.691857Z",
     "start_time": "2025-04-22T14:36:44.690113Z"
    }
   },
   "id": "a6c0669b069927f1",
   "execution_count": 5
  },
  {
   "cell_type": "markdown",
   "source": [
    "Notice that 8 is in the array so the return value is 1 (True)."
   ],
   "metadata": {
    "collapsed": false
   },
   "id": "181408a325dc4f5e"
  },
  {
   "cell_type": "markdown",
   "source": [
    "## Test 2 ##\n",
    "Now lets test the case where the value is not in the array by changing 8 to 80 at a[1]"
   ],
   "metadata": {
    "collapsed": false
   },
   "id": "f94459e5fc0b5d2c"
  },
  {
   "cell_type": "code",
   "outputs": [
    {
     "name": "stdout",
     "output_type": "stream",
     "text": [
      "State after setup: \n",
      "stack: [0, 4, 8]\n",
      "r0: 3, r1: 3\n",
      "mem: [2, 80, 1, 3]\n",
      "\n",
      "TESTS:\n",
      "✔️ Stack state passed\n",
      "✔️ Memory state passed\n",
      "✔️ Return value is correct (r1 is 0)\n",
      "\n",
      "Final state of VM: \n",
      " stack: []\n",
      "r0: 0, r1: 0\n",
      "mem: [2, 80, 1, 3]\n"
     ]
    }
   ],
   "source": [
    "test_vm(pre_stack_layout=[0, 4, 8],\n",
    "        pre_mem_layout=[2, 80, 1, 3],\n",
    "        program=program_find_v,\n",
    "        post_stack_layout=[],\n",
    "        post_mem_layout=[2, 80, 1, 3],\n",
    "        return_val=0)"
   ],
   "metadata": {
    "collapsed": false,
    "ExecuteTime": {
     "end_time": "2025-04-22T14:36:44.693842Z",
     "start_time": "2025-04-22T14:36:44.692293Z"
    }
   },
   "id": "2eecbee98c397d77",
   "execution_count": 6
  },
  {
   "cell_type": "markdown",
   "source": [
    "As you can see the program returned 0 via register r1, which means False."
   ],
   "metadata": {
    "collapsed": false
   },
   "id": "7adc4d720087ed74"
  },
  {
   "cell_type": "markdown",
   "source": [
    "## Test 3 ##\n",
    "Let's test starting address that isn't 0"
   ],
   "metadata": {
    "collapsed": false
   },
   "id": "bba00ade586b345c"
  },
  {
   "cell_type": "code",
   "outputs": [
    {
     "name": "stdout",
     "output_type": "stream",
     "text": [
      "State after setup: \n",
      "stack: [3, 4, 2]\n",
      "r0: 33, r1: 9\n",
      "mem: [1, 2, 3, 20, 80, 10, 30, 31, 34, 33]\n",
      "\n",
      "TESTS:\n",
      "✔️ Stack state passed\n",
      "✔️ Memory state passed\n",
      "✔️ Return value is correct (r1 is 0)\n",
      "\n",
      "Final state of VM: \n",
      " stack: []\n",
      "r0: 0, r1: 0\n",
      "mem: [1, 2, 3, 20, 80, 10, 30, 31, 34, 33]\n"
     ]
    }
   ],
   "source": [
    "test_vm(pre_stack_layout=[3, 4, 2],\n",
    "        pre_mem_layout=[1, 2, 3, 20, 80, 10, 30, 31, 34, 33],\n",
    "        program=program_find_v,\n",
    "        post_stack_layout=[],\n",
    "        post_mem_layout=[1, 2, 3, 20, 80, 10, 30, 31, 34, 33],\n",
    "        return_val=0)\n"
   ],
   "metadata": {
    "collapsed": false,
    "ExecuteTime": {
     "end_time": "2025-04-22T14:36:44.696076Z",
     "start_time": "2025-04-22T14:36:44.694401Z"
    }
   },
   "id": "e2eedf4088d7e986",
   "execution_count": 7
  },
  {
   "cell_type": "markdown",
   "source": [
    "## Test 4 ##\n",
    "Same as Test 3 but now the value is inside the array"
   ],
   "metadata": {
    "collapsed": false
   },
   "id": "6670bc31078444ed"
  },
  {
   "cell_type": "code",
   "outputs": [
    {
     "name": "stdout",
     "output_type": "stream",
     "text": [
      "State after setup: \n",
      "stack: [3, 5, 31]\n",
      "r0: 33, r1: 9\n",
      "mem: [1, 2, 3, 20, 80, 10, 30, 31, 34, 33]\n",
      "\n",
      "TESTS:\n",
      "✔️ Stack state passed\n",
      "✔️ Memory state passed\n",
      "✔️ Return value is correct (r1 is 1)\n",
      "\n",
      "Final state of VM: \n",
      " stack: []\n",
      "r0: 1, r1: 1\n",
      "mem: [1, 2, 3, 20, 80, 10, 30, 31, 34, 33]\n"
     ]
    }
   ],
   "source": [
    "test_vm(pre_stack_layout=[3, 5, 31],\n",
    "        pre_mem_layout=[1, 2, 3, 20, 80, 10, 30, 31, 34, 33],\n",
    "        program=program_find_v,\n",
    "        post_stack_layout=[],\n",
    "        post_mem_layout=[1, 2, 3, 20, 80, 10, 30, 31, 34, 33],\n",
    "        return_val=1)"
   ],
   "metadata": {
    "collapsed": false,
    "ExecuteTime": {
     "end_time": "2025-04-22T14:36:44.697982Z",
     "start_time": "2025-04-22T14:36:44.696553Z"
    }
   },
   "id": "33f1d745c69be06d",
   "execution_count": 8
  },
  {
   "cell_type": "markdown",
   "source": [
    "# Second Exercise #\n",
    "For the second exercise, finding the max of an array, we assume we get the functions arg on the stack, so the stack looks like this:\n",
    "[base_addr, n] \n",
    "\n",
    "The StASM code will be:"
   ],
   "metadata": {
    "collapsed": false
   },
   "id": "22febf507657c7c6"
  },
  {
   "cell_type": "code",
   "outputs": [],
   "source": [
    "program_find_max = [\n",
    "    (\"PUSH\", 0),\n",
    "    (\"DUP\", 2),\n",
    "    *READ_FROM_ARRAY(),\n",
    "    # Stack is now: [arr_addr, length, a[0]]\n",
    "    # Now let's define max = a[0]\n",
    "    (\"DUP\", 0),\n",
    "    # Stack is now: [arr_addr, length, a[0], mx=a[0]]\n",
    "    # Now after we saved a[0] on stack we can use this mem for i\n",
    "    # lets set i = 1 to memory address &a[0]\n",
    "    (\"PUSH\", 1),\n",
    "    (\"DUP\", 4),\n",
    "    (\"POP\", 2),\n",
    "    (\"STOR\", 0),\n",
    "    \"CHECK_COND:\",\n",
    "    # First put i in r0 and n in r1\n",
    "    (\"DUP\", 3),\n",
    "    (\"POP\", 1),\n",
    "    (\"LOAD\", 0),\n",
    "    (\"DUP\", 3),\n",
    "    (\"POP\", 2),\n",
    "    # Check i < n\n",
    "    (\"ALU\", \"LT\"),\n",
    "    (\"POP\", 1),\n",
    "    (\"JNZ\", \"LOOP_BODY\"),\n",
    "    (\"JMP\", \"END\"),\n",
    "    \"LOOP_BODY:\",\n",
    "    # read i from mem and put on stack\n",
    "    (\"DUP\", 3),\n",
    "    (\"POP\", 1),\n",
    "    (\"LOAD\", 0),\n",
    "    # put base addr on stack\n",
    "    (\"DUP\", 4),\n",
    "    # Put a[i] on stack\n",
    "    *READ_FROM_ARRAY(),\n",
    "    # Put mx on stack\n",
    "    (\"DUP\", 1),\n",
    "    # now stack is [base_addr, n, a[0], mx, a[i], mx]\n",
    "    (\"POP\", 2),\n",
    "    (\"ALU\", \"LT\"),\n",
    "    # now stack is [base_addr, n, a[0], mx, (result a[i] < mx)]\n",
    "    (\"POP\", 1),\n",
    "    (\"JNZ\", \"INC_I\"),\n",
    "    (\"JMP\", \"UPDATE\"),\n",
    "    \"INC_I:\",\n",
    "    # Put i on stack\n",
    "    (\"PUSH\", 0),\n",
    "    (\"DUP\", 4),\n",
    "    *READ_FROM_ARRAY(),\n",
    "    (\"PUSH\", 1),\n",
    "    (\"POP\", 2),\n",
    "    (\"ALU\", \"ADD\"),\n",
    "    (\"DUP\", 4),\n",
    "    (\"POP\", 2),\n",
    "    (\"STOR\", 0),\n",
    "    (\"JMP\", \"CHECK_COND\"),\n",
    "    \"UPDATE:\",\n",
    "    (\"POP\", 1),  # remove old mx from stack\n",
    "    # Push base addr\n",
    "    (\"DUP\", 2),\n",
    "    (\"POP\", 1),\n",
    "    (\"LOAD\", 0),\n",
    "    # Now i is on top of stack\n",
    "    (\"DUP\", 3),\n",
    "    *READ_FROM_ARRAY(),  # so now a[i] is where mx was on stack so mx = a[i]\n",
    "    (\"JMP\", \"INC_I\"),\n",
    "    \"END:\",\n",
    "    # Restore a[0]:\n",
    "    # Put a[0] on stack (we saved it before):\n",
    "    (\"DUP\", 1),\n",
    "    # Put base_addr on stack:\n",
    "    (\"DUP\", 4),\n",
    "    (\"POP\", 2),\n",
    "    (\"STOR\", 0),\n",
    "    (\"POP\", 2),\n",
    "    (\"POP\", 1),\n",
    "    (\"POP\", 1)\n",
    "]"
   ],
   "metadata": {
    "collapsed": false,
    "ExecuteTime": {
     "end_time": "2025-04-22T14:36:44.700734Z",
     "start_time": "2025-04-22T14:36:44.698379Z"
    }
   },
   "id": "90b8d248468bfd37",
   "execution_count": 9
  },
  {
   "cell_type": "markdown",
   "source": [
    "# Tests #\n",
    "To test the logic lets put some values on the stack and run the program.\n",
    "\n",
    "## Test 1 ##"
   ],
   "metadata": {
    "collapsed": false
   },
   "id": "49410b14c5475b5b"
  },
  {
   "cell_type": "code",
   "outputs": [
    {
     "name": "stdout",
     "output_type": "stream",
     "text": [
      "State after setup: \n",
      "stack: [0, 4]\n",
      "r0: 3, r1: 3\n",
      "mem: [2, 8, 10, 3]\n",
      "\n",
      "TESTS:\n",
      "✔️ Stack state passed\n",
      "✔️ Memory state passed\n",
      "✔️ Return value is correct (r1 is 10)\n",
      "\n",
      "Final state of VM: \n",
      " stack: []\n",
      "r0: 0, r1: 10\n",
      "mem: [2, 8, 10, 3]\n"
     ]
    }
   ],
   "source": [
    "test_vm(pre_stack_layout=[0, 4],\n",
    "        pre_mem_layout=[2, 8, 10, 3],\n",
    "        program=program_find_max,\n",
    "        post_stack_layout=[],\n",
    "        post_mem_layout=[2, 8, 10, 3],\n",
    "        return_val=10)\n"
   ],
   "metadata": {
    "collapsed": false,
    "ExecuteTime": {
     "end_time": "2025-04-22T14:36:44.702676Z",
     "start_time": "2025-04-22T14:36:44.701145Z"
    }
   },
   "id": "40b732e6cb675c0c",
   "execution_count": 10
  },
  {
   "cell_type": "markdown",
   "source": [
    "## Test 2 ##\n",
    "Let's test the case where the address of the array isn't 0"
   ],
   "metadata": {
    "collapsed": false
   },
   "id": "144f2012dfb4f44b"
  },
  {
   "cell_type": "code",
   "outputs": [
    {
     "name": "stdout",
     "output_type": "stream",
     "text": [
      "State after setup: \n",
      "stack: [1, 3]\n",
      "r0: 300, r1: 5\n",
      "mem: [300, 1, 2, 3, 300, 300]\n",
      "\n",
      "TESTS:\n",
      "✔️ Stack state passed\n",
      "✔️ Memory state passed\n",
      "✔️ Return value is correct (r1 is 3)\n",
      "\n",
      "Final state of VM: \n",
      " stack: []\n",
      "r0: 1, r1: 3\n",
      "mem: [300, 1, 2, 3, 300, 300]\n"
     ]
    }
   ],
   "source": [
    "test_vm(pre_stack_layout=[1, 3],\n",
    "        pre_mem_layout=[300, 1, 2, 3, 300, 300],\n",
    "        program=program_find_max,\n",
    "        post_stack_layout=[],\n",
    "        post_mem_layout=[300, 1, 2, 3, 300, 300],\n",
    "        return_val=3)\n",
    "\n"
   ],
   "metadata": {
    "collapsed": false,
    "ExecuteTime": {
     "end_time": "2025-04-22T14:36:44.704758Z",
     "start_time": "2025-04-22T14:36:44.703220Z"
    }
   },
   "id": "95c60cc830fb3e4c",
   "execution_count": 11
  },
  {
   "cell_type": "markdown",
   "source": [],
   "metadata": {
    "collapsed": false
   },
   "id": "fbf259296ac495b0"
  }
 ],
 "metadata": {
  "kernelspec": {
   "display_name": "Python 3",
   "language": "python",
   "name": "python3"
  },
  "language_info": {
   "codemirror_mode": {
    "name": "ipython",
    "version": 2
   },
   "file_extension": ".py",
   "mimetype": "text/x-python",
   "name": "python",
   "nbconvert_exporter": "python",
   "pygments_lexer": "ipython2",
   "version": "2.7.6"
  }
 },
 "nbformat": 4,
 "nbformat_minor": 5
}
