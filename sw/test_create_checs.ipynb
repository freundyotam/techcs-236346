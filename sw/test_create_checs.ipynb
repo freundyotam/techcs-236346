{
 "cells": [
  {
   "cell_type": "markdown",
   "source": [
    "## Test Create Checs"
   ],
   "metadata": {
    "collapsed": false
   },
   "id": "b260cc4bbdfd2ae9"
  },
  {
   "cell_type": "code",
   "outputs": [
    {
     "ename": "NameError",
     "evalue": "name 'stack' is not defined",
     "output_type": "error",
     "traceback": [
      "\u001B[0;31m---------------------------------------------------------------------------\u001B[0m",
      "\u001B[0;31mNameError\u001B[0m                                 Traceback (most recent call last)",
      "Cell \u001B[0;32mIn[7], line 7\u001B[0m\n\u001B[1;32m      5\u001B[0m stack \u001B[38;5;241m=\u001B[39m Array(\u001B[38;5;124m\"\u001B[39m\u001B[38;5;124mstack\u001B[39m\u001B[38;5;124m\"\u001B[39m, IntSort(), IntSort())\n\u001B[1;32m      6\u001B[0m sp, r0, r1 \u001B[38;5;241m=\u001B[39m Ints(\u001B[38;5;124m'\u001B[39m\u001B[38;5;124msp r0 r1\u001B[39m\u001B[38;5;124m'\u001B[39m)\n\u001B[0;32m----> 7\u001B[0m \u001B[43mcreate_checs\u001B[49m\u001B[43m(\u001B[49m\u001B[43mpre_condition\u001B[49m\u001B[38;5;241;43m=\u001B[39;49m\u001B[43mAnd\u001B[49m\u001B[43m(\u001B[49m\u001B[43mstack\u001B[49m\u001B[38;5;241;43m==\u001B[39;49m\u001B[43mmk_int_array\u001B[49m\u001B[43m(\u001B[49m\u001B[43m[\u001B[49m\u001B[38;5;241;43m1\u001B[39;49m\u001B[43m,\u001B[49m\u001B[38;5;241;43m5\u001B[39;49m\u001B[43m]\u001B[49m\u001B[43m)\u001B[49m\u001B[43m)\u001B[49m\u001B[43m,\u001B[49m\n\u001B[1;32m      8\u001B[0m \u001B[43m            \u001B[49m\u001B[43minput_vars\u001B[49m\u001B[38;5;241;43m=\u001B[39;49m\u001B[43m[\u001B[49m\u001B[43mstack\u001B[49m\u001B[43m,\u001B[49m\u001B[43m \u001B[49m\u001B[43msp\u001B[49m\u001B[43m,\u001B[49m\u001B[43m \u001B[49m\u001B[43mr0\u001B[49m\u001B[43m,\u001B[49m\u001B[43m \u001B[49m\u001B[43mr1\u001B[49m\u001B[43m]\u001B[49m\u001B[43m,\u001B[49m\n\u001B[1;32m      9\u001B[0m \u001B[43m            \u001B[49m\u001B[43mprogram\u001B[49m\u001B[38;5;241;43m=\u001B[39;49m\n\u001B[1;32m     10\u001B[0m \u001B[43m             \u001B[49m\u001B[43m[\u001B[49m\u001B[43m(\u001B[49m\u001B[38;5;124;43m\"\u001B[39;49m\u001B[38;5;124;43mPUSH\u001B[39;49m\u001B[38;5;124;43m\"\u001B[39;49m\u001B[43m,\u001B[49m\u001B[43m \u001B[49m\u001B[38;5;241;43m13\u001B[39;49m\u001B[43m)\u001B[49m\u001B[43m,\u001B[49m\n\u001B[1;32m     11\u001B[0m \u001B[43m              \u001B[49m\u001B[43m(\u001B[49m\u001B[38;5;124;43m\"\u001B[39;49m\u001B[38;5;124;43mPOP\u001B[39;49m\u001B[38;5;124;43m\"\u001B[39;49m\u001B[43m,\u001B[49m\u001B[43m \u001B[49m\u001B[38;5;241;43m2\u001B[39;49m\u001B[43m)\u001B[49m\u001B[43m,\u001B[49m\n\u001B[1;32m     12\u001B[0m \u001B[43m              \u001B[49m\u001B[43m(\u001B[49m\u001B[38;5;124;43m\"\u001B[39;49m\u001B[38;5;124;43mALU\u001B[39;49m\u001B[38;5;124;43m\"\u001B[39;49m\u001B[43m,\u001B[49m\u001B[43m \u001B[49m\u001B[38;5;124;43m\"\u001B[39;49m\u001B[38;5;124;43mMUL\u001B[39;49m\u001B[38;5;124;43m\"\u001B[39;49m\u001B[43m)\u001B[49m\u001B[43m,\u001B[49m\n\u001B[1;32m     13\u001B[0m \u001B[43m              \u001B[49m\u001B[43m(\u001B[49m\u001B[38;5;124;43m\"\u001B[39;49m\u001B[38;5;124;43mPOP\u001B[39;49m\u001B[38;5;124;43m\"\u001B[39;49m\u001B[43m,\u001B[49m\u001B[43m \u001B[49m\u001B[38;5;241;43m2\u001B[39;49m\u001B[43m)\u001B[49m\u001B[43m,\u001B[49m\n\u001B[1;32m     14\u001B[0m \u001B[43m              \u001B[49m\u001B[43m(\u001B[49m\u001B[38;5;124;43m\"\u001B[39;49m\u001B[38;5;124;43mALU\u001B[39;49m\u001B[38;5;124;43m\"\u001B[39;49m\u001B[43m,\u001B[49m\u001B[43m \u001B[49m\u001B[38;5;124;43m\"\u001B[39;49m\u001B[38;5;124;43mADD\u001B[39;49m\u001B[38;5;124;43m\"\u001B[39;49m\u001B[43m)\u001B[49m\u001B[43m,\u001B[49m\n\u001B[1;32m     15\u001B[0m \u001B[43m              \u001B[49m\u001B[43m(\u001B[49m\u001B[38;5;124;43m\"\u001B[39;49m\u001B[38;5;124;43mPOP\u001B[39;49m\u001B[38;5;124;43m\"\u001B[39;49m\u001B[43m,\u001B[49m\u001B[43m \u001B[49m\u001B[38;5;241;43m1\u001B[39;49m\u001B[43m)\u001B[49m\u001B[43m]\u001B[49m\u001B[43m,\u001B[49m\n\u001B[1;32m     16\u001B[0m \u001B[43m            \u001B[49m\u001B[43mpost_condition\u001B[49m\u001B[38;5;241;43m=\u001B[39;49m\u001B[43mstack\u001B[49m\u001B[43m[\u001B[49m\u001B[43msp\u001B[49m\u001B[43m]\u001B[49m\u001B[43m \u001B[49m\u001B[38;5;241;43m==\u001B[39;49m\u001B[38;5;241;43m6\u001B[39;49m\u001B[43m \u001B[49m\u001B[38;5;241;43m*\u001B[39;49m\u001B[43m \u001B[49m\u001B[38;5;241;43m13\u001B[39;49m\u001B[43m)\u001B[49m\n",
      "File \u001B[0;32m~/PycharmProjects/techcs-236346/sw/verify/stasm_to_chcs.py:47\u001B[0m, in \u001B[0;36mcreate_checs\u001B[0;34m(pre_condition, input_vars, program, post_condition)\u001B[0m\n\u001B[1;32m     45\u001B[0m instruction \u001B[38;5;241m=\u001B[39m program[i]\n\u001B[1;32m     46\u001B[0m \u001B[38;5;28;01mif\u001B[39;00m instruction[\u001B[38;5;241m0\u001B[39m] \u001B[38;5;241m==\u001B[39m \u001B[38;5;124m'\u001B[39m\u001B[38;5;124mPUSH\u001B[39m\u001B[38;5;124m'\u001B[39m:\n\u001B[0;32m---> 47\u001B[0m     value \u001B[38;5;241m=\u001B[39m instruction[\u001B[38;5;241m1\u001B[39m]\n\u001B[1;32m     48\u001B[0m     chcs\u001B[38;5;241m.\u001B[39mappend(Implies(U[i](sigma), U[i\u001B[38;5;241m+\u001B[39m\u001B[38;5;241m1\u001B[39m](\u001B[38;5;241m*\u001B[39minput_vars, Store(stack, sp, value), sp \u001B[38;5;241m+\u001B[39m \u001B[38;5;241m1\u001B[39m, r0, r1)))\n\u001B[1;32m     49\u001B[0m \u001B[38;5;28;01melif\u001B[39;00m instruction[\u001B[38;5;241m0\u001B[39m] \u001B[38;5;241m==\u001B[39m \u001B[38;5;124m'\u001B[39m\u001B[38;5;124mPOP\u001B[39m\u001B[38;5;124m'\u001B[39m:\n",
      "\u001B[0;31mNameError\u001B[0m: name 'stack' is not defined"
     ]
    }
   ],
   "source": [
    "from z3 import And, Const, Int, Ints, Array, IntSort\n",
    "\n",
    "from sw.verify.stasm_to_chcs import create_checs, mk_int_array\n",
    "\n",
    "stack = Array(\"stack\", IntSort(), IntSort())\n",
    "sp, r0, r1 = Ints('sp r0 r1')\n",
    "create_checs(pre_condition=And(stack==mk_int_array([1,5])),\n",
    "            input_vars=[stack, sp, r0, r1],\n",
    "            program=\n",
    "             [(\"PUSH\", 13),\n",
    "              (\"POP\", 2),\n",
    "              (\"ALU\", \"MUL\"),\n",
    "              (\"POP\", 2),\n",
    "              (\"ALU\", \"ADD\"),\n",
    "              (\"POP\", 1)],\n",
    "            post_condition=stack[sp] ==6 * 13)"
   ],
   "metadata": {
    "collapsed": false,
    "ExecuteTime": {
     "end_time": "2025-04-25T08:02:55.603226Z",
     "start_time": "2025-04-25T08:02:55.578769Z"
    }
   },
   "id": "634b2e0a0531fd68",
   "execution_count": 7
  },
  {
   "cell_type": "code",
   "outputs": [],
   "source": [],
   "metadata": {
    "collapsed": false
   },
   "id": "d06cf6c1de100890"
  }
 ],
 "metadata": {
  "kernelspec": {
   "display_name": "Python 3",
   "language": "python",
   "name": "python3"
  },
  "language_info": {
   "codemirror_mode": {
    "name": "ipython",
    "version": 2
   },
   "file_extension": ".py",
   "mimetype": "text/x-python",
   "name": "python",
   "nbconvert_exporter": "python",
   "pygments_lexer": "ipython2",
   "version": "2.7.6"
  }
 },
 "nbformat": 4,
 "nbformat_minor": 5
}
