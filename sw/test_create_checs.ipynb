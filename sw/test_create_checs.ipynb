{
 "cells": [
  {
   "cell_type": "markdown",
   "source": [
    "## Test Create Checs"
   ],
   "metadata": {
    "collapsed": false
   },
   "id": "b260cc4bbdfd2ae9"
  },
  {
   "cell_type": "code",
   "outputs": [
    {
     "name": "stdout",
     "output_type": "stream",
     "text": [
      "[Implies(And(stack[0] == 1, stack[1] == 5, sp == 2),\n",
      "        U0(stack, sp, r0, r1)), Implies(U0(stack, sp, r0, r1),\n",
      "        U1(Store(stack, sp, 13), sp + 1, r0, r1)), Implies(U1(stack, sp, r0, r1),\n",
      "        U2(stack, sp - 2, stack[sp], stack[sp - 1])), Implies(U2(stack, sp, r0, r1),\n",
      "        U3(Store(stack, sp, r0*r1), sp + 1, r0, r1)), Implies(U3(stack, sp, r0, r1),\n",
      "        U4(stack, sp - 2, stack[sp], stack[sp - 1])), Implies(U4(stack, sp, r0, r1),\n",
      "        U5(Store(stack, sp, r0 + r1), sp + 1, r0, r1)), Implies(U5(stack, sp, r0, r1),\n",
      "        U6(stack, sp - 1, stack[sp], r1)), Implies(U6(stack, sp, r0, r1), stack[sp] == 78)]\n"
     ]
    }
   ],
   "source": [
    "from z3 import And, Ints, Array, IntSort\n",
    "\n",
    "from sw.verify.stasm_to_chcs import create_checs, mk_int_array\n",
    "\n",
    "stack = Array(\"stack\", IntSort(), IntSort())\n",
    "sp, r0, r1 = Ints('sp r0 r1')\n",
    "print(create_checs(pre_condition=And(stack[0] == 1, stack[1] == 5, sp == 2),\n",
    "             input_vars=[],\n",
    "             program=\n",
    "             [(\"PUSH\", 13),\n",
    "              (\"POP\", 2),\n",
    "              (\"ALU\", \"MUL\"),\n",
    "              (\"POP\", 2),\n",
    "              (\"ALU\", \"ADD\"),\n",
    "              (\"POP\", 1)],\n",
    "             post_condition=stack[sp] == 6 * 13))"
   ],
   "metadata": {
    "collapsed": false,
    "ExecuteTime": {
     "end_time": "2025-04-25T09:06:27.993133Z",
     "start_time": "2025-04-25T09:06:27.961478Z"
    }
   },
   "id": "634b2e0a0531fd68",
   "execution_count": 1
  }
 ],
 "metadata": {
  "kernelspec": {
   "display_name": "Python 3",
   "language": "python",
   "name": "python3"
  },
  "language_info": {
   "codemirror_mode": {
    "name": "ipython",
    "version": 2
   },
   "file_extension": ".py",
   "mimetype": "text/x-python",
   "name": "python",
   "nbconvert_exporter": "python",
   "pygments_lexer": "ipython2",
   "version": "2.7.6"
  }
 },
 "nbformat": 4,
 "nbformat_minor": 5
}
