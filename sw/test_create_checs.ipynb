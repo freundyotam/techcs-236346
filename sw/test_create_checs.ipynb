{
 "cells": [
  {
   "cell_type": "markdown",
   "id": "b260cc4bbdfd2ae9",
   "metadata": {
    "collapsed": false
   },
   "source": [
    "## Test Create Checs"
   ]
  },
  {
   "cell_type": "code",
   "execution_count": 3,
   "id": "634b2e0a0531fd68",
   "metadata": {
    "collapsed": false,
    "ExecuteTime": {
     "end_time": "2025-05-08T07:53:15.389876Z",
     "start_time": "2025-05-08T07:53:15.285624Z"
    }
   },
   "outputs": [
    {
     "data": {
      "text/plain": "<hw.base.verification_utils.HyperResolutionProof at 0x10631bda0>",
      "text/html": "<table style=\"background: white; color: black\"><tr><td style=\"text-align: left;width: 20%\">digraph {\n\t0 [label=0]\n\t1 [label=1]\n\t2 [label=2]\n\t2 -> 1\n\t1 -> 0\n\t3 [label=3]\n\t3 -> 0\n}\n</td><td style=\"text-align: left\"><table style=\"background: white; color: black\"><tr><td style=\"text-align: left\">0</td><td style=\"text-align: left\">False</td></tr><tr><td style=\"text-align: left\">1</td><td style=\"text-align: left\">query!46(Store(Store(Store(Store(K(Int, 16), 1, 108810),\n                           3,\n                           8370),\n                     0,\n                     108823),\n               2,\n               13),\n         0,\n         108810,\n         108810)</td></tr><tr><td style=\"text-align: left\">2</td><td style=\"text-align: left\">&forall;A, B, C, D :\n &not;(C[0] = 66) &and;\n A[1] = 5 &and;\n A[0] = 1 &and;\n D = C[1] &and;\n B = 13&middot;A[3] &and;\n C = Store(Store(Store(A, 2, 13), 1, 13&middot;A[3]), 0, 13 + B) &rArr;\n query!46(C, 0, D, B)</td></tr><tr><td style=\"text-align: left\">3</td><td style=\"text-align: left\">query!46(Store(Store(Store(Store(K(Int, 16), 1, 108810),\n                           3,\n                           8370),\n                     0,\n                     108823),\n               2,\n               13),\n         0,\n         108810,\n         108810) &rArr;\nFalse</td></tr></table></td></tr></table>"
     },
     "execution_count": 3,
     "metadata": {},
     "output_type": "execute_result"
    }
   ],
   "source": [
    "from z3 import And, Ints, Array, IntSort\n",
    "import z3\n",
    "\n",
    "z3.set_param(proof=True)\n",
    "from sw.verify.stasm_to_chcs import create_checs, mk_int_array\n",
    "\n",
    "stack = Array(\"stack\", IntSort(), IntSort())\n",
    "sp, r0, r1 = Ints('sp r0 r1')\n",
    "chcs = create_checs(pre_condition=And(stack[0] == 1, stack[1] == 5, sp == 2),\n",
    "             input_vars=[],\n",
    "             program=\n",
    "             [(\"PUSH\", 13),\n",
    "              (\"POP\", 2),\n",
    "              (\"ALU\", \"MUL\"),\n",
    "              (\"POP\", 2),\n",
    "              (\"ALU\", \"ADD\"),\n",
    "              (\"POP\", 1)],\n",
    "             post_condition=stack[sp] == 66)\n",
    "chcs.solve()"
   ]
  },
  {
   "cell_type": "code",
   "execution_count": null,
   "id": "790a19a2-edb2-491a-9e8b-2bc07349bea8",
   "metadata": {
    "ExecuteTime": {
     "end_time": "2025-05-06T16:50:17.034075Z",
     "start_time": "2025-05-06T16:50:17.032695Z"
    }
   },
   "outputs": [],
   "source": []
  }
 ],
 "metadata": {
  "kernelspec": {
   "display_name": "Python 3 (ipykernel)",
   "language": "python",
   "name": "python3"
  },
  "language_info": {
   "codemirror_mode": {
    "name": "ipython",
    "version": 3
   },
   "file_extension": ".py",
   "mimetype": "text/x-python",
   "name": "python",
   "nbconvert_exporter": "python",
   "pygments_lexer": "ipython3",
   "version": "3.12.1"
  }
 },
 "nbformat": 4,
 "nbformat_minor": 5
}
