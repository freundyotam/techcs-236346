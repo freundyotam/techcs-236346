{
 "cells": [
  {
   "cell_type": "markdown",
   "id": "b260cc4bbdfd2ae9",
   "metadata": {
    "collapsed": false
   },
   "source": [
    "## Creating a program in the IR of the stam language"
   ]
  },
  {
   "cell_type": "markdown",
   "id": "b6ed3b4f50891bd9",
   "metadata": {
    "collapsed": false
   },
   "source": [
    "First, let's import the necessary imports."
   ]
  },
  {
   "cell_type": "code",
   "id": "ba475c5262d7230e",
   "metadata": {
    "collapsed": false,
    "ExecuteTime": {
     "end_time": "2025-06-07T16:04:20.356357Z",
     "start_time": "2025-06-07T16:04:20.351381Z"
    }
   },
   "source": [
    "from hw.cpu.assembler import asm\n",
    "from sw.basics import asm_interp\n",
    "from sw.compiler.backend import CompilerBackend\n",
    "from sw.compiler.parser import IRParser\n",
    "from sw.verify.stasm_to_chcs import create_chcs\n",
    "from z3 import And, Ints, Int, Array, IntSort, ForAll, Implies, Or\n",
    "import z3\n",
    "import graphviz\n",
    "z3.set_param(proof=True)\n",
    "from sw.verify.stasm_to_chcs import create_chcs\n",
    "\n",
    "p = IRParser()\n",
    "cb = CompilerBackend()"
   ],
   "outputs": [],
   "execution_count": 127
  },
  {
   "cell_type": "markdown",
   "id": "b89297f994fb7d3a",
   "metadata": {},
   "source": "Now let's write a function in StamlIR that draws a square. First, we'll add the `horiz` and `vert` functions given to us as examples"
  },
  {
   "cell_type": "code",
   "id": "62fdd5c9a9e07e7c",
   "metadata": {
    "ExecuteTime": {
     "end_time": "2025-06-07T16:04:20.367957Z",
     "start_time": "2025-06-07T16:04:20.365669Z"
    }
   },
   "source": [
    "prog = '''\n",
    "/* horiz x0 x1 y  */\n",
    "horiz(3) =\n",
    "    (if $2 < $1 then 1 else (if $1 < $2 then 0xffff else 0));\n",
    "    if $-1 then ignore block $2 $0; ignore wait; .horiz ($2 + $-1) $1 $0\n",
    "           else 0\n",
    "\n",
    "/* vert x y0 y1  */\n",
    "vert(3) =\n",
    "    (if $1 < $0 then 1 else (if $0 < $1 then 0xffff else 0));\n",
    "    if $-1 then ignore block $2 $1; ignore wait; .vert $2 ($1 + $-1) $0\n",
    "           else 0\n",
    "\n",
    "'''"
   ],
   "outputs": [],
   "execution_count": 128
  },
  {
   "metadata": {},
   "cell_type": "markdown",
   "source": "Now lets add our function and main function",
   "id": "3274fb47aab28c41"
  },
  {
   "metadata": {
    "ExecuteTime": {
     "end_time": "2025-06-07T16:04:20.376159Z",
     "start_time": "2025-06-07T16:04:20.374251Z"
    }
   },
   "cell_type": "code",
   "source": [
    "prog +='''\n",
    "/* square x y len  */\n",
    "square(3) =\n",
    "    ignore horiz $0 ($0 + $2) $1;  /* top line */\n",
    "    ignore vert ($0 + $2) $1 ($1 + $2);  /* right line */\n",
    "    ignore horiz ($0 + $2) $0 ($1 + $2);  /* bottom line */\n",
    "    ignore vert $0 ($1 + $2) $1;  /* left line */\n",
    "    0\n",
    "\n",
    "main(0) =\n",
    "    ignore square 5 5 10  /* top line */\n",
    "'''\n",
    "prog = '''\n",
    "main(0) =\n",
    "    1\n",
    "'''"
   ],
   "id": "7791277e00309ae4",
   "outputs": [],
   "execution_count": 129
  },
  {
   "metadata": {},
   "cell_type": "markdown",
   "source": "Now lets compile and print the code",
   "id": "cad295af8ea9ebe2"
  },
  {
   "cell_type": "code",
   "id": "cf6383e99ce8d9c6",
   "metadata": {
    "collapsed": false,
    "ExecuteTime": {
     "end_time": "2025-06-07T16:04:20.385734Z",
     "start_time": "2025-06-07T16:04:20.382419Z"
    }
   },
   "source": [
    "cb.funcs(p(prog))\n",
    "cb.code"
   ],
   "outputs": [
    {
     "data": {
      "text/plain": [
       "['main', ('PUSH', 1), ('POP', 2), ('RET', 1)]"
      ]
     },
     "execution_count": 130,
     "metadata": {},
     "output_type": "execute_result"
    }
   ],
   "execution_count": 130
  },
  {
   "metadata": {},
   "cell_type": "markdown",
   "source": "Now let's run it on the machine",
   "id": "2df1107a81bac69f"
  },
  {
   "metadata": {
    "ExecuteTime": {
     "end_time": "2025-06-07T16:04:20.410879Z",
     "start_time": "2025-06-07T16:04:20.395363Z"
    }
   },
   "cell_type": "code",
   "source": [
    "inter = asm_interp.AsmInterp()\n",
    "code = cb.code\n",
    "code =   cb.code\n",
    "inter.execute_program(code)\n",
    "print(inter.memory, inter.stack)"
   ],
   "id": "7d06ca4183fbac1",
   "outputs": [
    {
     "ename": "RuntimeError",
     "evalue": "Stack underflow",
     "output_type": "error",
     "traceback": [
      "\u001B[0;31m---------------------------------------------------------------------------\u001B[0m",
      "\u001B[0;31mRuntimeError\u001B[0m                              Traceback (most recent call last)",
      "Cell \u001B[0;32mIn[131], line 4\u001B[0m\n\u001B[1;32m      2\u001B[0m code \u001B[38;5;241m=\u001B[39m cb\u001B[38;5;241m.\u001B[39mcode\n\u001B[1;32m      3\u001B[0m code \u001B[38;5;241m=\u001B[39m   cb\u001B[38;5;241m.\u001B[39mcode\n\u001B[0;32m----> 4\u001B[0m \u001B[43minter\u001B[49m\u001B[38;5;241;43m.\u001B[39;49m\u001B[43mexecute_program\u001B[49m\u001B[43m(\u001B[49m\u001B[43mcode\u001B[49m\u001B[43m)\u001B[49m\n\u001B[1;32m      5\u001B[0m \u001B[38;5;28mprint\u001B[39m(inter\u001B[38;5;241m.\u001B[39mmemory, inter\u001B[38;5;241m.\u001B[39mstack)\n",
      "File \u001B[0;32m~/PycharmProjects/techcs-236346/sw/basics/asm_interp.py:60\u001B[0m, in \u001B[0;36mAsmInterp.execute_program\u001B[0;34m(self, instructions)\u001B[0m\n\u001B[1;32m     57\u001B[0m     \u001B[38;5;28;01mbreak\u001B[39;00m\n\u001B[1;32m     59\u001B[0m \u001B[38;5;28;01melse\u001B[39;00m:\n\u001B[0;32m---> 60\u001B[0m     \u001B[38;5;28;43mself\u001B[39;49m\u001B[38;5;241;43m.\u001B[39;49m\u001B[43mexecute\u001B[49m\u001B[43m(\u001B[49m\u001B[43mop\u001B[49m\u001B[43m,\u001B[49m\u001B[43m \u001B[49m\u001B[43marg\u001B[49m\u001B[43m)\u001B[49m\n\u001B[1;32m     62\u001B[0m ip \u001B[38;5;241m+\u001B[39m\u001B[38;5;241m=\u001B[39m \u001B[38;5;241m1\u001B[39m\n",
      "File \u001B[0;32m~/PycharmProjects/techcs-236346/sw/basics/asm_interp.py:88\u001B[0m, in \u001B[0;36mAsmInterp.execute\u001B[0;34m(self, op, arg)\u001B[0m\n\u001B[1;32m     86\u001B[0m n \u001B[38;5;241m=\u001B[39m arg \u001B[38;5;129;01mor\u001B[39;00m \u001B[38;5;241m1\u001B[39m\n\u001B[1;32m     87\u001B[0m \u001B[38;5;28;01mif\u001B[39;00m \u001B[38;5;28mlen\u001B[39m(\u001B[38;5;28mself\u001B[39m\u001B[38;5;241m.\u001B[39mstack) \u001B[38;5;241m<\u001B[39m n:\n\u001B[0;32m---> 88\u001B[0m     \u001B[38;5;28;01mraise\u001B[39;00m \u001B[38;5;167;01mRuntimeError\u001B[39;00m(\u001B[38;5;124m\"\u001B[39m\u001B[38;5;124mStack underflow\u001B[39m\u001B[38;5;124m\"\u001B[39m)\n\u001B[1;32m     89\u001B[0m \u001B[38;5;28;01mif\u001B[39;00m n \u001B[38;5;241m==\u001B[39m \u001B[38;5;241m1\u001B[39m:\n\u001B[1;32m     90\u001B[0m     \u001B[38;5;28mself\u001B[39m\u001B[38;5;241m.\u001B[39mr0 \u001B[38;5;241m=\u001B[39m \u001B[38;5;28mself\u001B[39m\u001B[38;5;241m.\u001B[39mstack\u001B[38;5;241m.\u001B[39mpop()\n",
      "\u001B[0;31mRuntimeError\u001B[0m: Stack underflow"
     ]
    }
   ],
   "execution_count": 131
  },
  {
   "metadata": {},
   "cell_type": "markdown",
   "source": "After we have the code, let's verify that all 4 corners of the rectangle are white",
   "id": "a5bf69dd4a2de3a8"
  },
  {
   "cell_type": "code",
   "id": "f24513ad685b1492",
   "metadata": {
    "collapsed": false,
    "ExecuteTime": {
     "end_time": "2025-06-07T16:04:20.415768Z",
     "start_time": "2025-06-07T15:12:34.793221Z"
    }
   },
   "source": [
    "# define a function that draws a square in IR code\n",
    "stack = Array(\"stack\", IntSort(), IntSort())\n",
    "memory = Array(\"memory\", IntSort(), IntSort())\n",
    "sp, r0, r1 = Ints('sp r0 r1')\n",
    "\n",
    "\n",
    "chcs = create_chcs(pre_condition=stack[0] == 0,\n",
    "                   input_vars=[],\n",
    "                   program=prog,\n",
    "                   post_condition=And(\n",
    "                                      memory[0] == 2,\n",
    "                                      r1 == 2))"
   ],
   "outputs": [
    {
     "ename": "ValueError",
     "evalue": "Invalid program item: \n",
     "output_type": "error",
     "traceback": [
      "\u001B[0;31m---------------------------------------------------------------------------\u001B[0m",
      "\u001B[0;31mValueError\u001B[0m                                Traceback (most recent call last)",
      "Cell \u001B[0;32mIn[112], line 7\u001B[0m\n\u001B[1;32m      3\u001B[0m memory \u001B[38;5;241m=\u001B[39m Array(\u001B[38;5;124m\"\u001B[39m\u001B[38;5;124mmemory\u001B[39m\u001B[38;5;124m\"\u001B[39m, IntSort(), IntSort())\n\u001B[1;32m      4\u001B[0m sp, r0, r1 \u001B[38;5;241m=\u001B[39m Ints(\u001B[38;5;124m'\u001B[39m\u001B[38;5;124msp r0 r1\u001B[39m\u001B[38;5;124m'\u001B[39m)\n\u001B[0;32m----> 7\u001B[0m chcs \u001B[38;5;241m=\u001B[39m \u001B[43mcreate_chcs\u001B[49m\u001B[43m(\u001B[49m\u001B[43mpre_condition\u001B[49m\u001B[38;5;241;43m=\u001B[39;49m\u001B[43mstack\u001B[49m\u001B[43m[\u001B[49m\u001B[38;5;241;43m0\u001B[39;49m\u001B[43m]\u001B[49m\u001B[43m \u001B[49m\u001B[38;5;241;43m==\u001B[39;49m\u001B[43m \u001B[49m\u001B[38;5;241;43m0\u001B[39;49m\u001B[43m,\u001B[49m\n\u001B[1;32m      8\u001B[0m \u001B[43m                   \u001B[49m\u001B[43minput_vars\u001B[49m\u001B[38;5;241;43m=\u001B[39;49m\u001B[43m[\u001B[49m\u001B[43m]\u001B[49m\u001B[43m,\u001B[49m\n\u001B[1;32m      9\u001B[0m \u001B[43m                   \u001B[49m\u001B[43mprogram\u001B[49m\u001B[38;5;241;43m=\u001B[39;49m\u001B[43mprog\u001B[49m\u001B[43m,\u001B[49m\n\u001B[1;32m     10\u001B[0m \u001B[43m                   \u001B[49m\u001B[43mpost_condition\u001B[49m\u001B[38;5;241;43m=\u001B[39;49m\u001B[43mAnd\u001B[49m\u001B[43m(\u001B[49m\n\u001B[1;32m     11\u001B[0m \u001B[43m                                      \u001B[49m\u001B[43mmemory\u001B[49m\u001B[43m[\u001B[49m\u001B[38;5;241;43m0\u001B[39;49m\u001B[43m]\u001B[49m\u001B[43m \u001B[49m\u001B[38;5;241;43m==\u001B[39;49m\u001B[43m \u001B[49m\u001B[38;5;241;43m2\u001B[39;49m\u001B[43m,\u001B[49m\n\u001B[1;32m     12\u001B[0m \u001B[43m                                      \u001B[49m\u001B[43mr1\u001B[49m\u001B[43m \u001B[49m\u001B[38;5;241;43m==\u001B[39;49m\u001B[43m \u001B[49m\u001B[38;5;241;43m2\u001B[39;49m\u001B[43m)\u001B[49m\u001B[43m)\u001B[49m\n",
      "File \u001B[0;32m~/PycharmProjects/techcs-236346/sw/verify/stasm_to_chcs.py:37\u001B[0m, in \u001B[0;36mcreate_chcs\u001B[0;34m(pre_condition, input_vars, program, post_condition)\u001B[0m\n\u001B[1;32m     35\u001B[0m sigma \u001B[38;5;241m=\u001B[39m input_vars \u001B[38;5;241m+\u001B[39m [memory, stack, sp, r0, r1]\n\u001B[1;32m     36\u001B[0m \u001B[38;5;66;03m# Extract instructions and labels\u001B[39;00m\n\u001B[0;32m---> 37\u001B[0m instructions, label_to_index \u001B[38;5;241m=\u001B[39m \u001B[43mextract_instructions_and_labels\u001B[49m\u001B[43m(\u001B[49m\u001B[43mprogram\u001B[49m\u001B[43m)\u001B[49m\n\u001B[1;32m     38\u001B[0m chcs \u001B[38;5;241m=\u001B[39m []\n\u001B[1;32m     40\u001B[0m \u001B[38;5;66;03m# States based on instructions only\u001B[39;00m\n",
      "File \u001B[0;32m~/PycharmProjects/techcs-236346/sw/verify/stasm_to_chcs.py:26\u001B[0m, in \u001B[0;36mextract_instructions_and_labels\u001B[0;34m(program)\u001B[0m\n\u001B[1;32m     24\u001B[0m         instr_index \u001B[38;5;241m+\u001B[39m\u001B[38;5;241m=\u001B[39m \u001B[38;5;241m1\u001B[39m\n\u001B[1;32m     25\u001B[0m     \u001B[38;5;28;01melse\u001B[39;00m:\n\u001B[0;32m---> 26\u001B[0m         \u001B[38;5;28;01mraise\u001B[39;00m \u001B[38;5;167;01mValueError\u001B[39;00m(\u001B[38;5;124mf\u001B[39m\u001B[38;5;124m\"\u001B[39m\u001B[38;5;124mInvalid program item: \u001B[39m\u001B[38;5;132;01m{\u001B[39;00mitem\u001B[38;5;132;01m}\u001B[39;00m\u001B[38;5;124m\"\u001B[39m)\n\u001B[1;32m     27\u001B[0m \u001B[38;5;28;01mreturn\u001B[39;00m instructions, label_to_index\n",
      "\u001B[0;31mValueError\u001B[0m: Invalid program item: \n"
     ]
    }
   ],
   "execution_count": 112
  },
  {
   "cell_type": "code",
   "id": "f738639950881b88",
   "metadata": {
    "collapsed": false,
    "ExecuteTime": {
     "end_time": "2025-06-07T16:04:20.416069Z",
     "start_time": "2025-06-07T13:05:08.169294Z"
    }
   },
   "source": [],
   "outputs": [],
   "execution_count": null
  }
 ],
 "metadata": {
  "kernelspec": {
   "display_name": "Python 3 (ipykernel)",
   "language": "python",
   "name": "python3"
  },
  "language_info": {
   "codemirror_mode": {
    "name": "ipython",
    "version": 3
   },
   "file_extension": ".py",
   "mimetype": "text/x-python",
   "name": "python",
   "nbconvert_exporter": "python",
   "pygments_lexer": "ipython3",
   "version": "3.12.1"
  }
 },
 "nbformat": 4,
 "nbformat_minor": 5
}
