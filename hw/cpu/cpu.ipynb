{
 "cells": [
  {
   "cell_type": "code",
   "execution_count": 29,
   "id": "52f666cd-8f92-4b62-b9af-6d685f6e6bd9",
   "metadata": {
    "ExecuteTime": {
     "end_time": "2025-06-06T07:23:15.364223Z",
     "start_time": "2025-06-06T07:23:15.362319Z"
    }
   },
   "outputs": [],
   "source": [
    "import boilerplate\n",
    "\n",
    "import pyrtl\n",
    "from pyrtl import *"
   ]
  },
  {
   "cell_type": "markdown",
   "id": "74987d29-acb5-4359-8dc0-e105ee77c2fe",
   "metadata": {},
   "source": [
    "# CPU Circuit Design"
   ]
  },
  {
   "cell_type": "code",
   "execution_count": 30,
   "id": "ef7a73d1-b8bf-4df5-be31-de696443462c",
   "metadata": {
    "ExecuteTime": {
     "end_time": "2025-06-06T07:23:15.378306Z",
     "start_time": "2025-06-06T07:23:15.375617Z"
    }
   },
   "outputs": [],
   "source": [
    "reset_working_block()\n",
    "\n",
    "# Register file\n",
    "sp = Register(bitwidth=16, name='sp') #, reset_value=5)\n",
    "pc = Register(bitwidth=16, name='pc')\n",
    "r = [Register(bitwidth=16, name='r%d' % i) for i in range(2)]\n",
    "instr = WireVector(bitwidth=16, name='instr')\n",
    "\n",
    "# Memories\n",
    "mem = MemBlock(bitwidth=16, addrwidth=16, name=\"mem\", max_read_ports=99, max_write_ports=40, asynchronous=True)\n",
    "rom = RomBlock(bitwidth=16, addrwidth=16, name=\"rom\", romdata=[0xf], pad_with_zeros=True, asynchronous=True)"
   ]
  },
  {
   "cell_type": "code",
   "execution_count": 31,
   "id": "e16b0c3c-de90-49f6-8449-452b86b25744",
   "metadata": {
    "ExecuteTime": {
     "end_time": "2025-06-06T07:23:15.382099Z",
     "start_time": "2025-06-06T07:23:15.379372Z"
    }
   },
   "outputs": [],
   "source": [
    "\n",
    "def alu(op):\n",
    "    res = WireVector(bitwidth=16)\n",
    "    _ = AOP\n",
    "    with op == _.ADD:\n",
    "        res |= (r[0] + r[1])[:16]\n",
    "    with op == _.SUB:\n",
    "        res |= (r[0] - r[1])[:16]\n",
    "    with op == _.MUL:\n",
    "        res |= (r[0] * r[1])[:16]\n",
    "    with op == _.DIV:\n",
    "        # @todo need a specific circuit to emulate this\n",
    "        pass\n",
    "    with op == _.NEG:\n",
    "        res |= (0 - r[0])[:16]\n",
    "    with op == _.AND:\n",
    "        res |= r[0] & r[1]\n",
    "    with op == _.OR:\n",
    "        res |= r[0] | r[1]\n",
    "    with op == _.NOT:\n",
    "        res |= ~r[0]\n",
    "    with op == _.SHL:\n",
    "        res |= shift_left_logical(r[0], r[1])\n",
    "    with op == _.SHR:\n",
    "        res |= shift_right_logical(r[0], r[1])\n",
    "    with op == _.LT:\n",
    "        res |= r[0] < r[1]\n",
    "\n",
    "    return res\n",
    "    "
   ]
  },
  {
   "cell_type": "code",
   "execution_count": 32,
   "id": "1064d824-1df1-40b2-9859-dc717210e3e3",
   "metadata": {
    "ExecuteTime": {
     "end_time": "2025-06-06T07:23:15.393015Z",
     "start_time": "2025-06-06T07:23:15.382645Z"
    }
   },
   "outputs": [],
   "source": [
    "from instruction_set import *\n",
    "\n",
    "instr <<= rom[pc]\n",
    "\n",
    "op = instr[:4]\n",
    "arg = instr[4:16]\n",
    "earg = rom[(pc+1)[:16]]\n",
    "\n",
    "sofs = lambda i: (sp - i)[:16]\n",
    "st1 = sofs(1)\n",
    "st2 = sofs(2)\n",
    "\n",
    "with conditional_assignment:\n",
    "    with op == HALT:\n",
    "        pc.next |= pc\n",
    "    with op == PUSH:\n",
    "        mem[sp] |= earg\n",
    "        sp.next |= sp + 1\n",
    "        pc.next |= pc + 2\n",
    "    with op == POP:\n",
    "        with arg == 1:\n",
    "            r[0].next |= mem[st1]\n",
    "            sp.next |= st1\n",
    "        with arg == 2:\n",
    "            r[0].next |= mem[st2]\n",
    "            r[1].next |= mem[st1]\n",
    "            sp.next |= st2\n",
    "        with otherwise:\n",
    "            sp.next |= sp - arg\n",
    "        pc.next |= pc + 1\n",
    "    with op == DUP:\n",
    "        mem[sp] |= mem[(st1 - arg)[:16]]\n",
    "        sp.next |= sp + 1\n",
    "        pc.next |= pc + 1\n",
    "    with op == ALU:\n",
    "        mem[sp] |= alu(arg)\n",
    "        sp.next |= sp + 1\n",
    "        pc.next |= pc + 1\n",
    "    with op == YANK:\n",
    "        take, drop = arg[:4], arg[4:]\n",
    "        en = (op == YANK)\n",
    "        ew = lambda v: MemBlock.EnabledWrite(v, en)\n",
    "        # @note requires take <= 4\n",
    "        mem[sofs(take+drop)]   <<= ew(mem[sofs(take)])\n",
    "        mem[sofs(take+drop-1)] <<= ew(mem[sofs(take-1)])\n",
    "        mem[sofs(take+drop-2)] <<= ew(mem[sofs(take-2)])\n",
    "        mem[sofs(take+drop-3)] <<= ew(mem[sofs(take-3)])\n",
    "        sp.next |= sp - drop\n",
    "        pc.next |= pc + 1\n",
    "    #with op == LOAD:\n",
    "    #    mem[sp] |= mem[r[0]]\n",
    "    #    sp.next |= sp + 1\n",
    "    #    pc.next |= pc + 1\n",
    "    #with op == STOR:\n",
    "    #    mem[r[1]] |= r[0]\n",
    "    #    pc.next |= pc + 1\n",
    "    #with op == JMP:\n",
    "    #    pc.next |= earg\n",
    "    #with op == JZ:\n",
    "    #    ???\n",
    "    #with op == JNZ:\n",
    "    #    ???\n",
    "    #with op == RET:\n",
    "    #    ???"
   ]
  },
  {
   "cell_type": "markdown",
   "id": "30feea04-32fe-4ab0-8737-09fa0e8d0472",
   "metadata": {},
   "source": [
    "### A Test program\n",
    "This is a simple program in StASM, compiled to machine code using the module `assembler`."
   ]
  },
  {
   "cell_type": "code",
   "execution_count": 33,
   "id": "1960c0b9-c1f6-45dc-9144-291b6b12fe9e",
   "metadata": {
    "ExecuteTime": {
     "end_time": "2025-06-06T07:23:15.396714Z",
     "start_time": "2025-06-06T07:23:15.394229Z"
    }
   },
   "outputs": [
    {
     "data": {
      "text/plain": "Assembly(words=[91, 139, 41, 16, 25], start_addr=0, label_addrs={'HALT': 5})"
     },
     "execution_count": 33,
     "metadata": {},
     "output_type": "execute_result"
    }
   ],
   "source": [
    "from instruction_set import *\n",
    "from assembler import asm\n",
    "\n",
    "prog = asm([\n",
    "    ('PUSH', 0x5),\n",
    "    ('PUSH', 0x8),\n",
    "    ('POP', 2),\n",
    "    ('ALU', 'ADD'),\n",
    "    ('POP', 1),\n",
    "    ('HALT'), # TODO code didn't run so I changed from ('HALT',) to ('HALT')\n",
    "])\n",
    "\n",
    "prog"
   ]
  },
  {
   "cell_type": "markdown",
   "id": "9728431c-f6d6-4cad-90ba-fa292a6ada4e",
   "metadata": {},
   "source": [
    "## Simulation\n",
    "\n",
    "This function here simulates the design using PyRTL's simulator. It populates the ROM with the compiled program's machine code and iterates until HALT is encountered."
   ]
  },
  {
   "cell_type": "code",
   "execution_count": 34,
   "id": "2e3bd93b-65af-4eea-b1e9-fc382fa36c0f",
   "metadata": {
    "ExecuteTime": {
     "end_time": "2025-06-06T07:23:15.420053Z",
     "start_time": "2025-06-06T07:23:15.397255Z"
    }
   },
   "outputs": [
    {
     "name": "stdout",
     "output_type": "stream",
     "text": [
      "0b1011011 [('PUSH', 5)] 0x0 0x0 0x0 []\n",
      "0b101001 [('POP', 2)] 0x2 0x0 0x0 [139]\n",
      "0b10000 [('ALU', 1)] 0x3 0x0 0x8b [139, 0, 0, 0, 0, 0, 0, 0]\n",
      "0b11001 [('POP', 1)] 0x4 0x0 0x8b []\n",
      "0b0 [('ALU', 0)] 0x5 0x8b 0x8b [139, 0, 0, 0, 0, 0, 0, 0]\n",
      "0b0 [('ALU', 0)] 0x6 0x8b 0x8b []\n",
      "0b0 [('ALU', 0)] 0x7 0x8b 0x8b [0]\n",
      "0b0 [('ALU', 0)] 0x8 0x8b 0x8b [0, 0]\n",
      "0b0 [('ALU', 0)] 0x9 0x8b 0x8b [0, 0, 0]\n",
      "0b0 [('ALU', 0)] 0xa 0x8b 0x8b [0, 0, 0, 0]\n",
      "0b0 [('ALU', 0)] 0xb 0x8b 0x8b [0, 0, 0, 0, 0]\n",
      "0b0 [('ALU', 0)] 0xc 0x8b 0x8b [0, 0, 0, 0, 0, 0]\n",
      "0b0 [('ALU', 0)] 0xd 0x8b 0x8b [0, 0, 0, 0, 0, 0, 0]\n",
      "0b0 [('ALU', 0)] 0xe 0x8b 0x8b [0, 0, 0, 0, 0, 0, 0, 0]\n",
      "0b0 [('ALU', 0)] 0xf 0x8b 0x8b [0, 0, 0, 0, 0, 0, 0, 0]\n",
      "0b0 [('ALU', 0)] 0x10 0x8b 0x8b [0, 0, 0, 0, 0, 0, 0, 0]\n",
      "0b0 [('ALU', 0)] 0x11 0x8b 0x8b [0, 0, 0, 0, 0, 0, 0, 0]\n",
      "0b0 [('ALU', 0)] 0x12 0x8b 0x8b [0, 0, 0, 0, 0, 0, 0, 0]\n",
      "0b0 [('ALU', 0)] 0x13 0x8b 0x8b [0, 0, 0, 0, 0, 0, 0, 0]\n",
      "0b0 [('ALU', 0)] 0x14 0x8b 0x8b [0, 0, 0, 0, 0, 0, 0, 0]\n",
      "0b0 [('ALU', 0)] 0x15 0x8b 0x8b [0, 0, 0, 0, 0, 0, 0, 0]\n",
      "0b0 [('ALU', 0)] 0x16 0x8b 0x8b [0, 0, 0, 0, 0, 0, 0, 0]\n",
      "0b0 [('ALU', 0)] 0x17 0x8b 0x8b [0, 0, 0, 0, 0, 0, 0, 0]\n",
      "0b0 [('ALU', 0)] 0x18 0x8b 0x8b [0, 0, 0, 0, 0, 0, 0, 0]\n",
      "0b0 [('ALU', 0)] 0x19 0x8b 0x8b [0, 0, 0, 0, 0, 0, 0, 0]\n",
      "0b0 [('ALU', 0)] 0x1a 0x8b 0x8b [0, 0, 0, 0, 0, 0, 0, 0]\n",
      "0b0 [('ALU', 0)] 0x1b 0x8b 0x8b [0, 0, 0, 0, 0, 0, 0, 0]\n",
      "0b0 [('ALU', 0)] 0x1c 0x8b 0x8b [0, 0, 0, 0, 0, 0, 0, 0]\n",
      "0b0 [('ALU', 0)] 0x1d 0x8b 0x8b [0, 0, 0, 0, 0, 0, 0, 0]\n",
      "0b0 [('ALU', 0)] 0x1e 0x8b 0x8b [0, 0, 0, 0, 0, 0, 0, 0]\n"
     ]
    },
    {
     "data": {
      "text/plain": "<IPython.core.display.HTML object>",
      "text/html": "<script type=\"WaveDrom\">\n{\n  signal : [\n    { name: \"instr\",  wave: \"=====.........................\", data: [\"0x5b\", \"0x29\", \"0x10\", \"0x19\", \"0x0\"] },\n    { name: \"pc\",  wave: \"==============================\", data: [\"0x0\", \"0x2\", \"0x3\", \"0x4\", \"0x5\", \"0x6\", \"0x7\", \"0x8\", \"0x9\", \"0xa\", \"0xb\", \"0xc\", \"0xd\", \"0xe\", \"0xf\", \"0x10\", \"0x11\", \"0x12\", \"0x13\", \"0x14\", \"0x15\", \"0x16\", \"0x17\", \"0x18\", \"0x19\", \"0x1a\", \"0x1b\", \"0x1c\", \"0x1d\", \"0x1e\"] },\n    { name: \"r0\",  wave: \"=...=.........................\", data: [\"0x0\", \"0x8b\"] },\n    { name: \"r1\",  wave: \"=.=...........................\", data: [\"0x0\", \"0x8b\"] },\n    { name: \"sp\",  wave: \"==============================\", data: [\"0x0\", \"0x1\", \"0xffff\", \"0x0\", \"0xffff\", \"0x0\", \"0x1\", \"0x2\", \"0x3\", \"0x4\", \"0x5\", \"0x6\", \"0x7\", \"0x8\", \"0x9\", \"0xa\", \"0xb\", \"0xc\", \"0xd\", \"0xe\", \"0xf\", \"0x10\", \"0x11\", \"0x12\", \"0x13\", \"0x14\", \"0x15\", \"0x16\", \"0x17\", \"0x18\"] },\n  ],\n  config: { hscale: 2 }\n}\n</script>\n"
     },
     "metadata": {},
     "output_type": "display_data"
    },
    {
     "data": {
      "text/plain": "<IPython.core.display.Javascript object>",
      "application/javascript": "\n            $.when(\n            $.getScript(\"https://cdnjs.cloudflare.com/ajax/libs/wavedrom/1.6.2/skins/default.js\"),\n            $.getScript(\"https://cdnjs.cloudflare.com/ajax/libs/wavedrom/1.6.2/wavedrom.min.js\"),\n            $.Deferred(function( deferred ){\n                $( deferred.resolve );\n            })).done(function(){\n                WaveDrom.ProcessAll();\n            });"
     },
     "metadata": {},
     "output_type": "display_data"
    }
   ],
   "source": [
    "from assembler import disasm\n",
    "\n",
    "def simulate_program(prog, max_cycles=30, verbose=False):\n",
    "    # Place the program in the ROM\n",
    "    rom.data = prog.words\n",
    "    \n",
    "    sim_trace = pyrtl.SimulationTrace()\n",
    "    sim = pyrtl.Simulation(tracer=sim_trace)\n",
    "    for cycle in range(max_cycles):\n",
    "        sim.step({})\n",
    "        if verbose:\n",
    "            m = sim.inspect_mem(mem)\n",
    "            print(bin(sim.inspect(instr)), disasm([sim.inspect(instr)]),\n",
    "                  hex(sim.inspect(pc)), hex(sim.inspect(r[0])), hex(sim.inspect(r[1])),\n",
    "                  [m.get(i, 0) for i in range(min(sim.inspect(sp), 8))])\n",
    "    \n",
    "        if sim.inspect(instr) == HALT:\n",
    "            break\n",
    "\n",
    "    return sim_trace\n",
    "\n",
    "simulate_program(prog, verbose=True).render_trace()"
   ]
  },
  {
   "cell_type": "markdown",
   "id": "add09d36-6511-4c85-9cbc-eae3f4985eea",
   "metadata": {},
   "source": [
    "##### _Debug ports_"
   ]
  },
  {
   "cell_type": "code",
   "execution_count": 35,
   "id": "b184e079-1191-4340-bf2a-aed9e69a858a",
   "metadata": {
    "ExecuteTime": {
     "end_time": "2025-06-06T07:23:15.422803Z",
     "start_time": "2025-06-06T07:23:15.420636Z"
    }
   },
   "outputs": [],
   "source": [
    "d_sp = Output(name='d_sp', bitwidth=16)\n",
    "d_pc = Output(name='d_pc', bitwidth=16)\n",
    "d_instr = Output(name='d_instr', bitwidth=32)\n",
    "\n",
    "d_sp <<= sp\n",
    "d_pc <<= pc\n",
    "d_instr <<= concat(instr, earg)\n",
    "\n",
    "# Debug the lowest 16 memory addresses\n",
    "d_memaddrs = range(16)\n",
    "reads = [mem[i] for i in d_memaddrs]\n",
    "arr = Output(bitwidth=len(reads)*16, name=\"d_mem\")\n",
    "arr <<= concat_list(reads)"
   ]
  },
  {
   "cell_type": "code",
   "execution_count": 36,
   "id": "96de43d3-405b-414b-b054-c4e58f75afc1",
   "metadata": {
    "ExecuteTime": {
     "end_time": "2025-06-06T07:23:15.427781Z",
     "start_time": "2025-06-06T07:23:15.423310Z"
    }
   },
   "outputs": [],
   "source": [
    "import os\n",
    "from simulate import CCompiledSimulation"
   ]
  },
  {
   "cell_type": "code",
   "execution_count": 36,
   "id": "7c668154-948f-4921-91ba-ced182c12f3d",
   "metadata": {
    "ExecuteTime": {
     "end_time": "2025-06-06T07:23:15.429382Z",
     "start_time": "2025-06-06T07:23:15.428368Z"
    }
   },
   "outputs": [],
   "source": []
  }
 ],
 "metadata": {
  "kernelspec": {
   "display_name": "Python 3 (ipykernel)",
   "language": "python",
   "name": "python3"
  },
  "language_info": {
   "codemirror_mode": {
    "name": "ipython",
    "version": 3
   },
   "file_extension": ".py",
   "mimetype": "text/x-python",
   "name": "python",
   "nbconvert_exporter": "python",
   "pygments_lexer": "ipython3",
   "version": "3.13.2"
  }
 },
 "nbformat": 4,
 "nbformat_minor": 5
}
